{
 "cells": [
  {
   "cell_type": "markdown",
   "metadata": {},
   "source": [
    "# Assignment - Programming for Data Analysis - Due: last commit on or before November 22nd\n",
    "\n",
    "The following assignment concerns the numpy.random package in Python. You are\n",
    "required to create a Jupyter notebook explaining the use of the package, including\n",
    "detailed explanations of at least five of the distributions provided for in the package.\n",
    "There are four distinct tasks to be carried out in your Jupyter notebook.\n",
    "\n",
    "1. Explain the overall purpose of the package.\n",
    "2. Explain the use of the “Simple random data” and “Permutations” functions.\n",
    "3. Explain the use and purpose of at least five “Distributions” functions.\n",
    "4. Explain the use of seeds in generating pseudorandom numbers."
   ]
  },
  {
   "cell_type": "markdown",
   "metadata": {},
   "source": [
    "![NumPy](NumPy.jpg)\n",
    "\n",
    "\n",
    "## 1. Explain the overall purpose of the package.\n",
    "\n",
    "##### What is NumPy?\n",
    "NumPy stands for Numerical Python. NumPy is a python library used for working with arrays. It also has functions for working in domain of linear algebra, fourier transform, and matrices. NumPy was created in 2005 by Travis Oliphant.https://www.w3schools.com/python/numpy_intro.asp\n",
    "\n",
    "The functions available in NumPy today weren't avaiable in original versions of Python, as Python wasn't originally designed for numerical computing. A working group felt that it was necessary to create NumPy as a Python library to serve the scientific and engineering community. When Python was being created as a new programming language the Python project wasn't ready to integrate the ideas that now make the NumPy library what it is today. More about how the working group on NumPy evolved can be found on Wikipedia. https://en.wikipedia.org/wiki/NumPy\n",
    "\n",
    "While there may be some overlap between what NumPy offers and what may be integrated into Python's own maths library, NumPy has become the standard to learn in the Data Science and Analytics Community. The NumPy library can easily be imported into Python and functions integrated and work in conjuncton with Python code.\n",
    "\n",
    "Some advantages of NumPy are discussed on the w3schools website\n",
    "\n",
    "> - In Python we have lists that serve the purpose of arrays, but they are slow to process.\n",
    "> - NumPy aims to provide an array object that is up to 50x faster that traditional Python lists.\n",
    "> - Arrays are very frequently used in data science, where speed and resources are very important.\n",
    "> - Why is NumPy Faster Than Lists? NumPy arrays are stored at one continuous place in memory unlike lists, so processes can access and manipulate them very efficiently. This behavior is called locality of reference in computer science. This is the main reason why NumPy is faster than lists. Also it is optimized to work with latest CPU architectures.\n",
    "\n",
    "NumPy known for it efficient creation and handling of data arrays, and many functions for generating different patterns of random data for statistical modelling, is like a toolkit for data scientists.\n",
    "\n",
    "It has very comprehensive lists of functions that generate randomised data and perform statistical analysis, which work effectively with Python and other modules such as visualisation modules imported into Python.\n",
    "\n",
    "![NumPy](wordart.png)\n",
    "\n",
    "Check out more NumPy functions here https://docs.scipy.org/doc/numpy-1.15.0/reference/routines.random.html\n",
    "\n",
    "#### Why would I use NumPy?\n",
    "\n",
    "![NumPy](advancedmaths.png)\n",
    "\n",
    "Like many people reading the NumPy docs, if you haven't got an advanced mathematical background looking at a list of NumPy mathematical functions is quite overwhelming. Once you understand that every NumPy function solves a mathematical problem doing the heavy lifting work for you, as a non mathematician you can feel very encouraged, you can start Googling for what is the best NumPy function to help you solve your question and create brilliant mathematical visualisations by incorporating Matplotlib and Seaborn into your Python code.\n",
    "\n",
    "When you turn on your phone or start your car, you don't necessarily know the mechanics or the technology under the hood, but that technology does the heavy lifting of otherwise difficult tasks.\n",
    "\n",
    "When a Python programmer uses a NumPy function to perform a complex mathematical operation, they don't have to know how NumPy does it, they just have to be sure that they know the correct data entry points for passing variables into the NumPy function.\n",
    "\n",
    "e.g. this NumPy function below can calculate the probability of heads landing six times in a row if you flip a coin 20,000 times.\n",
    "\n",
    "import numpy as np\n",
    "\n",
    "estimate = sum(np.random.binomial(6, 0.5,20000)==6)/20000\n",
    "\n",
    "print(estimate)\n",
    "\n",
    "Yes a little basic maths is required for operating NumPy and Python, but often the data entry for the maths to make NumPy work is often no more complex than knowing where to stick the key in the ignition of your car. Sometimes you will have to know a little bit about Python and have an understanding of what you want to achieve mathematiclly to be able to use NumPy, but you don't have to spend hours on lab work to calculate the mathematical solution, you just copy paste snippets of code from the NumPy documents and carefully follow instructions for the data entry points.\n",
    "\n",
    "With libraries like NumPy, lack of advanced maths isn't necessarily a bar to a data analytics or programming career.\n",
    "\n",
    "The kind of things you might calculate rapidly with NumPy, are often things that are useful to know in everyday business, for example you don't have to be solving something as complex as the the theory of relativity, you could be dealing with a staffing and logistical question such as what is the likelihood that 600 customers will walk through a shop door, something that many managers may guestimate on experience can instead using NumPy, Python and available data provide a company with mathematical prediction.\n",
    "\n",
    "##### What is numpy.random package\n",
    "\n",
    "The numpy.random package has many different functions for creating random numbered arrays.\n",
    "They include \n",
    "\n",
    "**rand**<br>\n",
    "randn<br>\n",
    "**randint**<br>\n",
    "random_integers<br>\n",
    "random_sample<br>\n",
    "random<br>\n",
    "ranf<br>\n",
    "sample<br>\n",
    "choice<br>\n",
    "bytes<br>\n",
    "\n",
    "More details on how each of the different NumPy functions above generate random numbered arrays can be found on the link below \n",
    "https://docs.scipy.org/doc/numpy-1.15.0/reference/routines.random.html\n",
    "\n",
    "The overall purpose of the numpy.random package is to be able to serve the needs of different data scientists and programmers requiring different randomisation models.\n",
    "\n",
    "Randomisation is a specialist field of computer science and there isn't a one size fits all right way of doing randomisation. Therefore the contributors and developers of numpy.random over time have added more and more options and choices of randomisation functions so that data analysts and developers can simulate and develop many different random datasets used for random scenarios."
   ]
  },
  {
   "cell_type": "markdown",
   "metadata": {},
   "source": [
    "# 2. Explain the use of the “Simple random data” and “Permutations” functions."
   ]
  },
  {
   "cell_type": "markdown",
   "metadata": {},
   "source": [
    "## How to use NumPy Simple Random Data Functions\n",
    "\n",
    "NumPy offers the random module to work with random numbers.\n",
    "There are two basic NumPy Simple Random Data Functions that every data analyst or scientist should know, they are randint() and rand()\n",
    "\n",
    "These two NumPy functions alone can be used to:\n",
    "\n",
    "* Generate Single Random Numbers\n",
    "* Generate Arrays of Random Numbers \n",
    "* Generating Multi Dimensional Arrays of Random Numbers\n",
    "\n",
    "While there are other Simple random data functions in NumPy, I will just give you a quick overview of how to use the randint() and rand() functions, because these two functions alone provide a great foundation to understanding the capabilities of NumPy. Without the beginner understanding these two basic functional capabilities within NumPy a lot of the other potential of NumPy is lost."
   ]
  },
  {
   "cell_type": "markdown",
   "metadata": {},
   "source": [
    "### Are you working with random integers or random floats?\n",
    "\n",
    "Whether you use randint() or rand(), depends on whether you are working with integer data or data that may also contain floats (decimal places).\n",
    "\n",
    "When considering what is the best NumPy option to use for your task, you need to consider whether you are needing random data values that are entirely integers or numbers that could possibly include floats.\n",
    "\n",
    "Integers and floats are two different kinds of numerical data. An integer (more commonly called an int) is a number without a decimal point. A float is a floating-point number, which means it is a number that has a decimal place. Floats are used when more precision is needed.https://processing.org/examples/integersfloats.html\n",
    "\n",
    "It is important to consider the difference between integers and floats because NumPy is an add-on to Python, and Python like other programming languages treats integers and floats as two different data types, and there are slightly different programming nuances for working with integers and floats."
   ]
  },
  {
   "cell_type": "markdown",
   "metadata": {},
   "source": [
    "#### Working with integers\n",
    "\n",
    "If you want to work with integers e.g. numbers without a decimal point and say generate a random integer from 0 to 100, you would use the randint function \n",
    "\n",
    "You can use the randint function to generate a single random number as shown in the example below https://www.w3schools.com/python/numpy_random.asp"
   ]
  },
  {
   "cell_type": "code",
   "execution_count": 1,
   "metadata": {},
   "outputs": [
    {
     "name": "stdout",
     "output_type": "stream",
     "text": [
      "36\n"
     ]
    }
   ],
   "source": [
    "from numpy import random\n",
    "\n",
    "x = random.randint(100)\n",
    "\n",
    "print(x)"
   ]
  },
  {
   "cell_type": "markdown",
   "metadata": {},
   "source": [
    "You can also create a random array of numbers e.g 5 random numbers between zero and a hundred, for integer numbers you would do it like the example below https://www.w3schools.com/python/numpy_random.asp"
   ]
  },
  {
   "cell_type": "code",
   "execution_count": 2,
   "metadata": {},
   "outputs": [
    {
     "name": "stdout",
     "output_type": "stream",
     "text": [
      "[29  0 20 58 83]\n"
     ]
    }
   ],
   "source": [
    "from numpy import random\n",
    "\n",
    "x=random.randint(100, size=(5))\n",
    "\n",
    "print(x)"
   ]
  },
  {
   "cell_type": "markdown",
   "metadata": {},
   "source": [
    "Infact one of the great functionalities about NumPy is its ability to work with and create arrays, you can generate multiple dimensional arrays, such as this 2-D array with 3 rows, each row containing 5 random integers from 0 to 100: https://www.w3schools.com/python/numpy_random.asp"
   ]
  },
  {
   "cell_type": "code",
   "execution_count": 3,
   "metadata": {},
   "outputs": [
    {
     "name": "stdout",
     "output_type": "stream",
     "text": [
      "[[94 42 60 33 56]\n",
      " [ 1  0 62  6 10]\n",
      " [11 73 16 12 20]]\n"
     ]
    }
   ],
   "source": [
    "from numpy import random\n",
    "\n",
    "x = random.randint(100, size=(3, 5))\n",
    "\n",
    "print(x)"
   ]
  },
  {
   "cell_type": "markdown",
   "metadata": {},
   "source": [
    "#### Working with floats\n",
    "\n",
    "If you want to work with floats e.g. decimal numbers and say generate a random decimal value, you can use the random module's rand() method returns a random float between 0 and 1"
   ]
  },
  {
   "cell_type": "code",
   "execution_count": 4,
   "metadata": {},
   "outputs": [
    {
     "name": "stdout",
     "output_type": "stream",
     "text": [
      "0.5378513906530427\n"
     ]
    }
   ],
   "source": [
    "from numpy import random\n",
    "\n",
    "x = random.rand()\n",
    "\n",
    "print(x)"
   ]
  },
  {
   "cell_type": "markdown",
   "metadata": {},
   "source": [
    "Generate a 2-D array with 3 rows, each row containing 5 random numbers:https://www.w3schools.com/python/numpy_random.asp"
   ]
  },
  {
   "cell_type": "code",
   "execution_count": 5,
   "metadata": {},
   "outputs": [
    {
     "name": "stdout",
     "output_type": "stream",
     "text": [
      "[[0.29775273 0.62528607 0.45280645 0.35623645 0.42612316]\n",
      " [0.28009782 0.2929945  0.6942936  0.53268097 0.60123532]\n",
      " [0.29173907 0.47870794 0.65561922 0.20437681 0.56411098]]\n"
     ]
    }
   ],
   "source": [
    "from numpy import random\n",
    "\n",
    "x = random.rand(3, 5)\n",
    "\n",
    "print(x)"
   ]
  },
  {
   "cell_type": "markdown",
   "metadata": {},
   "source": [
    "![NumPy](randomNumbers.png)\n",
    "\n",
    "#### Why use / generate random data?\n",
    "\n",
    "Sometimes you might be developing a software application that has a reporting capability but no data from users.\n",
    "Being able to generate randomised data within realistic ranges that you would expect from the software users is one reason why you would generate random data."
   ]
  },
  {
   "cell_type": "markdown",
   "metadata": {},
   "source": [
    "## How to use NumPy Permutation Functions\n",
    "\n",
    "NumPy has two permutations functions, one is called shuffle and the other is called permutation.\n",
    "\n",
    "To make it a little bit more interesting for the reader, and hopefully more clear for the reader I am going to illustrate how the NumPy Permutation Functions would work, in some code examples with a virtual set of playing cards.\n",
    "\n",
    "Excluding the Jokers, most packs of playing cards have 52 cards.\n",
    "A pack contains what is known as the 4 suits, and each suit contains 13 cards. \n",
    "A suit will contain the following cards Ace, Jack, Queen, King and numbers from 2 to 10.\n",
    "Playing cards are linked to folklore and mysticism. \n",
    "The 4 suits are clubs, spades, hearts and diamonds ♣️♠️♥️♦️, some people say the 4 suits represent the four seaons.\n",
    "Some people say the 13 cards in each suit represent the number of people at the last supper.\n",
    "That is the easy way I remember 4 suits and 13 playing cards in each suit.\n",
    "\n",
    "Now we are going to have a little fun with Python and NumPy, creating, sorting and shuffling virtual card decks.\n",
    "\n",
    "The first thing to remember is Python starts counting at zero, so a virtual deck of cards created with Python, is counted from 0 to 51. \n",
    "\n",
    "If you see Python print an ordered sequence like this<br>\n",
    " 0  1  2  3  4  5  6  7  8  9 10 11 12 <br>\n",
    "13 14 15 16 17 18 19 20 21 22 23 24 25 <br>\n",
    "26 27 28 29 30 31 32 33 34 35 36 37 38 <br>\n",
    "39 40 41 42 43 44 45 46 47 48 49 50 51 <br>\n",
    "\n",
    "You got to imagine that in reality it really looks like this\n",
    "\n",
    "A♣️J♣️Q♣️K♣️2♣️3♣️4♣️5♣️6♣️7♣️8♣️9♣️10♣️ <br>\n",
    "A♠️J♠️Q♠️K♠️2♠️3♠️4♠️5♠️6♠️7♠️8♠️9♠️10♠️ <br>\n",
    "A♥️J♥️Q♥️K♥️2♥️3♥️4♥️5♥️6♥️7♥️8♥️9♥️10♥️ <br>\n",
    "A♦️J♦️Q♦️K♦️2♦️3♦️4♦️5♦️6♦️7♦️8♦️9♦️10♦️ <br>\n",
    "\n",
    "\n",
    "\n",
    "Later in my code I will be swapping the integer values 0 - 51 with playing card names, but first let us have a quick basic look at the NumPy shuffle function.\n",
    "\n",
    "### shuffle(x)\n",
    "The first is called shuffle\n",
    "\n",
    "**numpy.random.shuffle**\n",
    "\n",
    "shuffle(x)\tModify a sequence in-place by shuffling its contents.\n",
    "\n",
    "Think of the NumPy shuffle option like shuffling a deck of cards, applying the function shuffles the positions of the cards but it doesn't change the contents of the deck."
   ]
  },
  {
   "cell_type": "code",
   "execution_count": 6,
   "metadata": {},
   "outputs": [
    {
     "name": "stdout",
     "output_type": "stream",
     "text": [
      "You are going to have to use your imagination and think of the 52 sequenced values below as 52 cards\n",
      "[ 0  1  2  3  4  5  6  7  8  9 10 11 12 13 14 15 16 17 18 19 20 21 22 23\n",
      " 24 25 26 27 28 29 30 31 32 33 34 35 36 37 38 39 40 41 42 43 44 45 46 47\n",
      " 48 49 50 51]\n",
      "Now NumPy has shuffled the deck\n",
      "[18 37 34 10 41 17 29  1 38 39  6  5 22 33  0 28 50 35  2 45 12 16 19 21\n",
      "  9 26 43  8  4 24  7 48 27 15 23 30 42 36 32 44 46 31 14 25 20 51 40  3\n",
      " 13 47 49 11]\n"
     ]
    }
   ],
   "source": [
    "import numpy as np\n",
    "\n",
    "#I have no cards, arrange generates me a virtual arranged deck\n",
    "arr = np.arange(52)\n",
    "print(\"You are going to have to use your imagination and think of the 52 sequenced values below as 52 cards\")\n",
    "print(arr)\n",
    "\n",
    "#I now use the shuffle function to shuffle the virtual arranged deck\n",
    "np.random.shuffle(arr)\n",
    "print(\"Now NumPy has shuffled the deck\")\n",
    "print(arr)"
   ]
  },
  {
   "cell_type": "markdown",
   "metadata": {},
   "source": [
    "#### Shuffling virtual deck\n",
    "*Still struggling to see what NumPy shuffle is doing? Don't worry here is more realistic looking deck of virtual cards.\n"
   ]
  },
  {
   "cell_type": "code",
   "execution_count": 7,
   "metadata": {},
   "outputs": [
    {
     "name": "stdout",
     "output_type": "stream",
     "text": [
      "A sorted deck of cards\n",
      "['A♣️', 'J♣️', 'Q♣️', 'K♣️', '2♣️', '3♣️', '4♣️', '5♣️', '6♣️', '7♣️', '8♣️', '9♣️', '10♣️', 'A♠️', 'J♠️', 'Q♠️', 'K♠️', '2♠️', '3♠️', '4♠️', '5♠️', '6♠️', '7♠️', '8♠️', '9♠️', '10♠️', 'A♥️', 'J♥️', 'Q♥️', 'K♥️', '2♥️', '3♥️', '4♥️', '5♥️', '6♥️', '7♥️', '8♥️', '9♥️', '10♥️', 'A♦️', 'J♦️', 'Q♦️', 'K♦️', '2♦️', '3♦️', '4♦️', '5♦️', '6♦️', '7♦️', '8♦️', '9♦️', '10♦️']\n",
      "A shuffled deck of cards\n",
      "['9♦️', '6♠️', '10♦️', '9♠️', '4♦️', '6♥️', 'J♥️', 'A♦️', '9♣️', '2♣️', '7♥️', '2♥️', '8♠️', 'K♦️', '9♥️', '10♣️', '10♠️', '5♣️', '4♣️', 'A♠️', '7♦️', 'K♥️', 'A♥️', 'Q♣️', 'K♠️', '4♠️', '8♥️', '5♠️', 'Q♦️', '6♦️', '5♦️', '8♦️', '2♠️', 'J♠️', '3♣️', '4♥️', '7♠️', '3♦️', 'A♣️', 'K♣️', '3♥️', 'Q♥️', '10♥️', 'Q♠️', '2♦️', '3♠️', '6♣️', '7♣️', '5♥️', '8♣️', 'J♣️', 'J♦️']\n"
     ]
    }
   ],
   "source": [
    "import numpy as np\n",
    "\n",
    "build_a_deck = [\"A♣️\",\"J♣️\",\"Q♣️\",\"K♣️\",\"2♣️\",\"3♣️\",\"4♣️\",\"5♣️\",\"6♣️\",\"7♣️\",\"8♣️\",\"9♣️\",\"10♣️\",\n",
    "                \"A♠️\",\"J♠️\",\"Q♠️\",\"K♠️\",\"2♠️\",\"3♠️\",\"4♠️\",\"5♠️\",\"6♠️\",\"7♠️\",\"8♠️\",\"9♠️\",\"10♠️\",\n",
    "                \"A♥️\",\"J♥️\",\"Q♥️\",\"K♥️\",\"2♥️\",\"3♥️\",\"4♥️\",\"5♥️\",\"6♥️\",\"7♥️\",\"8♥️\",\"9♥️\",\"10♥️\",\n",
    "                \"A♦️\",\"J♦️\",\"Q♦️\",\"K♦️\",\"2♦️\",\"3♦️\",\"4♦️\",\"5♦️\",\"6♦️\",\"7♦️\",\"8♦️\",\"9♦️\",\"10♦️\"]\n",
    "               \n",
    "print(\"A sorted deck of cards\")\n",
    "print(build_a_deck)\n",
    "        \n",
    "#I now use the shuffle function to shuffle the virtual arranged deck\n",
    "\n",
    "np.random.shuffle(build_a_deck)\n",
    "\n",
    "print(\"A shuffled deck of cards\")\n",
    "print(build_a_deck)"
   ]
  },
  {
   "cell_type": "markdown",
   "metadata": {},
   "source": [
    "#### The Multi-dimensional array shuffle\n",
    "\n",
    "If you apply the NumPy shuffle option to a Multi-dimensional arrays are only shuffled along the first axis:\n",
    "See example below"
   ]
  },
  {
   "cell_type": "code",
   "execution_count": 8,
   "metadata": {
    "scrolled": true
   },
   "outputs": [
    {
     "name": "stdout",
     "output_type": "stream",
     "text": [
      "Cards sorted in 4 boxes\n",
      "[[ 0  1  2  3  4  5  6  7  8  9 10 11 12]\n",
      " [13 14 15 16 17 18 19 20 21 22 23 24 25]\n",
      " [26 27 28 29 30 31 32 33 34 35 36 37 38]\n",
      " [39 40 41 42 43 44 45 46 47 48 49 50 51]] \n",
      "\n",
      "4 boxes shuffled using the Shuffle function\n",
      "[[26 27 28 29 30 31 32 33 34 35 36 37 38]\n",
      " [13 14 15 16 17 18 19 20 21 22 23 24 25]\n",
      " [39 40 41 42 43 44 45 46 47 48 49 50 51]\n",
      " [ 0  1  2  3  4  5  6  7  8  9 10 11 12]] \n",
      "\n"
     ]
    }
   ],
   "source": [
    "import numpy as np\n",
    "arr = np.arange(52).reshape((4, 13))\n",
    "print(\"Cards sorted in 4 boxes\")\n",
    "print(arr, \"\\n\")\n",
    "\n",
    "np.random.shuffle(arr)\n",
    "print(\"4 boxes shuffled using the Shuffle function\")\n",
    "print(arr,\"\\n\")"
   ]
  },
  {
   "cell_type": "markdown",
   "metadata": {},
   "source": [
    "#### .... and now with virtual cards"
   ]
  },
  {
   "cell_type": "code",
   "execution_count": 9,
   "metadata": {},
   "outputs": [
    {
     "name": "stdout",
     "output_type": "stream",
     "text": [
      "virtual card arrays sorted in 4 virtual boxes\n",
      "[['A♣️' 'J♣️' 'Q♣️' 'K♣️' '2♣️' '3♣️' '4♣️' '5♣️' '6♣️' '7♣️' '8♣️' '9♣️'\n",
      "  '10♣️']\n",
      " ['A♠️' 'J♠️' 'Q♠️' 'K♠️' '2♠️' '3♠️' '4♠️' '5♠️' '6♠️' '7♠️' '8♠️' '9♠️'\n",
      "  '10♠️']\n",
      " ['A♥️' 'J♥️' 'Q♥️' 'K♥️' '2♥️' '3♥️' '4♥️' '5♥️' '6♥️' '7♥️' '8♥️' '9♥️'\n",
      "  '10♥️']\n",
      " ['A♦️' 'J♦️' 'Q♦️' 'K♦️' '2♦️' '3♦️' '4♦️' '5♦️' '6♦️' '7♦️' '8♦️' '9♦️'\n",
      "  '10♦️']] \n",
      "\n",
      "4 virtual boxes shuffled using the Shuffle function\n",
      "[['A♣️' 'J♣️' 'Q♣️' 'K♣️' '2♣️' '3♣️' '4♣️' '5♣️' '6♣️' '7♣️' '8♣️' '9♣️'\n",
      "  '10♣️']\n",
      " ['A♦️' 'J♦️' 'Q♦️' 'K♦️' '2♦️' '3♦️' '4♦️' '5♦️' '6♦️' '7♦️' '8♦️' '9♦️'\n",
      "  '10♦️']\n",
      " ['A♥️' 'J♥️' 'Q♥️' 'K♥️' '2♥️' '3♥️' '4♥️' '5♥️' '6♥️' '7♥️' '8♥️' '9♥️'\n",
      "  '10♥️']\n",
      " ['A♠️' 'J♠️' 'Q♠️' 'K♠️' '2♠️' '3♠️' '4♠️' '5♠️' '6♠️' '7♠️' '8♠️' '9♠️'\n",
      "  '10♠️']] \n",
      "\n",
      "Note only the order of the arrays may have changed in the shuffled not the order within each array\n"
     ]
    }
   ],
   "source": [
    "import numpy as np\n",
    "\n",
    "\n",
    "build_a_deck = [\"A♣️\",\"J♣️\",\"Q♣️\",\"K♣️\",\"2♣️\",\"3♣️\",\"4♣️\",\"5♣️\",\"6♣️\",\"7♣️\",\"8♣️\",\"9♣️\",\"10♣️\",\n",
    "                \"A♠️\",\"J♠️\",\"Q♠️\",\"K♠️\",\"2♠️\",\"3♠️\",\"4♠️\",\"5♠️\",\"6♠️\",\"7♠️\",\"8♠️\",\"9♠️\",\"10♠️\",\n",
    "                \"A♥️\",\"J♥️\",\"Q♥️\",\"K♥️\",\"2♥️\",\"3♥️\",\"4♥️\",\"5♥️\",\"6♥️\",\"7♥️\",\"8♥️\",\"9♥️\",\"10♥️\",\n",
    "                \"A♦️\",\"J♦️\",\"Q♦️\",\"K♦️\",\"2♦️\",\"3♦️\",\"4♦️\",\"5♦️\",\"6♦️\",\"7♦️\",\"8♦️\",\"9♦️\",\"10♦️\"]\n",
    "\n",
    "\n",
    "build_a_deck = np.array(build_a_deck)\n",
    "build_a_deck = build_a_deck.reshape((4, 13))\n",
    "\n",
    "\n",
    "print(\"virtual card arrays sorted in 4 virtual boxes\")\n",
    "print(build_a_deck, \"\\n\")\n",
    "\n",
    "np.random.shuffle(build_a_deck)\n",
    "print(\"4 virtual boxes shuffled using the Shuffle function\")\n",
    "print(build_a_deck,\"\\n\")\n",
    "print(\"Note only the order of the arrays may have changed in the shuffled not the order within each array\")"
   ]
  },
  {
   "cell_type": "markdown",
   "metadata": {},
   "source": [
    "### permutation(x)\n",
    "\n",
    "The second is called permutation\n",
    "\n",
    "**numpy.random.permutation**\n",
    "\n",
    "Randomly permute a sequence, or return a permuted range.\n",
    "\n",
    "I compared NumPy shuffle as analogous to shuffling a deck of cards, imagine you didn't have a deck of cards, and you quickly wanted to create a sequence of numbers already shuffled, this is when you would call the permutation function, np.random.permutation(52) produces your virtual deck already shuffled i.e. numbers 0 to 51 in a mixed order. These are not random numbers, these are a sequence of numbers 0 to 52 arranged randomly. If you were to do a numpy\n",
    "\n",
    "If the sequence already exists the permutate function operates in the same way as shuffle, it changes the order of the sequence without altering the content of the sequence.\n",
    "\n",
    "Permutation function only shuffles Multi-dimensional arrays along the first axis in the same way as the shuffle function does.\n",
    "\n",
    "**Obeservations**\n",
    "There is not really any visible distinction between how the shuffle and permutation function work when calling in place arrays."
   ]
  },
  {
   "cell_type": "code",
   "execution_count": 10,
   "metadata": {},
   "outputs": [
    {
     "name": "stdout",
     "output_type": "stream",
     "text": [
      "[45 25 20 24 30  5  3  2 31 41  4 14 43 27 15 40 19 42 37 22 47 23 21 34\n",
      " 17 10  1  7  0 18 13 51 39 44 29 16  6  9 48 35  8 11 32 38 36 50 28 46\n",
      " 33 26 49 12]\n"
     ]
    }
   ],
   "source": [
    "\n",
    "#I have no cards, permutation generates me a virtual shuffled deck\n",
    "\n",
    "import numpy as np\n",
    "perm = np.random.permutation(52)\n",
    "print(perm)"
   ]
  },
  {
   "cell_type": "code",
   "execution_count": 11,
   "metadata": {},
   "outputs": [
    {
     "name": "stdout",
     "output_type": "stream",
     "text": [
      "Cards sorted in 4 boxes\n",
      "[[ 0  1  2  3  4  5  6  7  8  9 10 11 12]\n",
      " [13 14 15 16 17 18 19 20 21 22 23 24 25]\n",
      " [26 27 28 29 30 31 32 33 34 35 36 37 38]\n",
      " [39 40 41 42 43 44 45 46 47 48 49 50 51]] \n",
      "\n",
      "4 boxes shuffled using the permutation function\n",
      "[[13 14 15 16 17 18 19 20 21 22 23 24 25]\n",
      " [ 0  1  2  3  4  5  6  7  8  9 10 11 12]\n",
      " [39 40 41 42 43 44 45 46 47 48 49 50 51]\n",
      " [26 27 28 29 30 31 32 33 34 35 36 37 38]] \n",
      "\n"
     ]
    }
   ],
   "source": [
    "import numpy as np\n",
    "arr = np.arange(52).reshape((4, 13))\n",
    "print(\"Cards sorted in 4 boxes\")\n",
    "print(arr, \"\\n\")\n",
    "\n",
    "perm = np.random.permutation(arr)\n",
    "print(\"4 boxes shuffled using the permutation function\")\n",
    "print(perm,\"\\n\")"
   ]
  },
  {
   "cell_type": "markdown",
   "metadata": {},
   "source": [
    "# 3. Explain the use and purpose of at least five “Distributions” functions.\n",
    "\n",
    "Next we are going to look at the purpose of five distribution functions that NumPy provides.\n",
    "\n",
    "One of the awesome things about NumPy is data scientists and programmers don't have to wait to collect data, random numeric data can be generated within number ranges that represent patterns seen in common statistical models.\n",
    "\n",
    "The five functions which I will cover will include\n",
    "\n",
    "random.binom\n",
    "numpy.random.geometric (recently changed to np.random.default_rng().geometric)\n",
    "random.poisson\n",
    "random.multinomial\n",
    "random.normal\n",
    "\n",
    "\n",
    "The Random Distribution functions have been created within NumPy to help solve common mathematical and scientific problems that the mathematical and scientific community have over time created formulas to solve. As a lay person I don't necessarily need to understand all of the math and science behind the formula, I just need to be able to find the right NumPy distribution function to help me with it. With all of the Distribution functions below, I am not even going to pretend that I understand the math behind the function, but I will best as possible show you a use and purpose for each one.\n",
    "\n",
    "\n",
    "https://docs.scipy.org/doc/scipy/reference/stats.html"
   ]
  },
  {
   "cell_type": "markdown",
   "metadata": {},
   "source": [
    "# Heads or Tails? Using the distribution function random.binom\n",
    "\n",
    "When you think of randomness and statistics, most for dummies classes start with the simple coin flip.\n",
    "\n",
    "Every beginner of statistics looks at the simple probability of a coin equally likely to land on heads as it is tails.\n",
    "\n",
    "As the beginner advances in their knowledge they begin to wonder what are the chances of getting two heads in a row, and so on.\n",
    "\n",
    "When you want to know the probability of getting a specific sequence, e.g. 11 heads in a row, you learn because every coin flip is its own event and not influenced by a previous event, the chances of getting 10 heads in a row and one tail, is the same as getting 11 heads in a row.\n",
    "\n",
    "Earlier we looked at random.randint where the computer picked a random number between 1 and a hundred. On simple probability, every number from 1 to 100 has a 1/100 chance of being randomly picked by the computer. That doesn't mean that if you do the same random.randint one hundred times, that every number will be picked, some will be picked more, some less, and some not at all, it would only be when you the random.randint thousands of times, or possibly hundreds of thousands of times, are you guarnteed that the computer will at some point pick every number from 1 to 100.\n",
    "\n",
    "How do you create a scenario where the computer tries to emulate ten coin flips in a row to test the probability of a certain sequence happening? For this you would use the random.binom function.\n",
    "\n",
    "> - What is a Binomial Distribution? A binomial distribution can be thought of as simply the probability of a SUCCESS or FAILURE outcome in an experiment or survey that is repeated multiple times. The binomial is a type of distribution that has two possible outcomes (the prefix “bi” means two, or twice). For example, a coin toss has only two possible outcomes: heads or tails and taking a test could have two possible outcomes: pass or fail.\n",
    "\n",
    "> - The first variable in the binomial formula, n, stands for the number of times the experiment runs. The second variable, p, represents the probability of one specific outcome. For example, let’s suppose you wanted to know the probability of getting a 1 on a die roll. if you were to roll a die 20 times, the probability of rolling a one on any throw is 1/6. Roll twenty times and you have a binomial distribution of (n=20, p=1/6). SUCCESS would be “roll a one” and FAILURE would be “roll anything else.” If the outcome in question was the probability of the die landing on an even number, the binomial distribution would then become (n=20, p=1/2). That’s because your probability of throwing an even number is one half.\n",
    "\n",
    "> - Criteria Binomial distributions must also meet the following three criteria:\n",
    "\n",
    "> - The number of observations or trials is fixed. In other words, you can only figure out the probability of something happening if you do it a certain number of times. This is common sense—if you toss a coin once, your probability of getting a tails is 50%. If you toss a coin a 20 times, your probability of getting a tails is very, very close to 100%. Each observation or trial is independent. In other words, none of your trials have an effect on the probability of the next trial. The probability of success (tails, heads, fail or pass) is exactly the same from one trial to another.\n",
    "\n",
    "> - https://www.statisticshowto.com/probability-and-statistics/binomial-theorem/binomial-distribution-formula/\n",
    "\n",
    "Once you know that your distribution is binomial, you can apply the binomial distribution formula to calculate the probability.\n",
    "\n",
    "the likelihood of a coin landing on heads six times in a row in 20,000 coin flips\n",
    "\n",
    "If I was to try and calculate the likelihood of a coin landing on heads eleven times in a row in 20,000 coin flips, I would use the binom function\n",
    "\n",
    "binom(args, *kwds) - A binomial discrete random variable.\n",
    "\n",
    "https://www.mathsisfun.com/data/binomial-distribution.html https://towardsdatascience.com/10-numpy-functions-you-should-know-1dc4863764c5 https://youtu.be/h8T2dwZJMUw https://www.w3schools.com/python/numpy_random_binomial.asp https://www.statisticshowto.com/probability-and-statistics/binomial-theorem/binomial-distribution-formula/\n"
   ]
  },
  {
   "cell_type": "code",
   "execution_count": 12,
   "metadata": {},
   "outputs": [
    {
     "name": "stdout",
     "output_type": "stream",
     "text": [
      "0.01535\n"
     ]
    }
   ],
   "source": [
    "import numpy as np\n",
    "\n",
    "estimate = sum(np.random.binomial(6, 0.5,20000)==6)/20000\n",
    "\n",
    "print(estimate)"
   ]
  },
  {
   "cell_type": "markdown",
   "metadata": {},
   "source": [
    "# number of trials that must be run in order to achieve success - using the numpy.random.geometric function\n",
    "\n",
    "Above we looked at a formula that generates random data to emulate 20,000 coin flips and calculates the probability of getting six tails in a row.\n",
    "\n",
    "What if you wanted to know how many trials that you would need to run before you could achieve success?\n",
    "\n",
    "You would look to use the random.geometric distribution formula, the syntax of this function has changed between NumPy versions. np.random.geometric, np.random.default_rng().geometric\n",
    "\n",
    "Bernoulli trials are experiments with one of two outcomes: success or failure (an example of such an experiment is flipping a coin). The geometric distribution models the number of trials that must be run in order to achieve success. \n",
    "\n",
    "https://docs.scipy.org/doc/numpy-1.15.0/reference/generated/numpy.random.geometric.html#numpy.random.geometric\n",
    "https://numpy.org/doc/stable/reference/random/generated/numpy.random.Generator.geometric.html#numpy.random.Generator.geometric"
   ]
  },
  {
   "cell_type": "code",
   "execution_count": 13,
   "metadata": {},
   "outputs": [
    {
     "name": "stdout",
     "output_type": "stream",
     "text": [
      "[217  17   6 ...  76  34  63]\n",
      "[24 36 39 ... 41 20 19]\n"
     ]
    },
    {
     "data": {
      "image/png": "[encoded data removed]",
      "text/plain": [
       "<Figure size 432x288 with 1 Axes>"
      ]
     },
     "metadata": {
      "needs_background": "light"
     },
     "output_type": "display_data"
    },
    {
     "name": "stdout",
     "output_type": "stream",
     "text": [
      "0.01525\n"
     ]
    }
   ],
   "source": [
    "import numpy as np \n",
    "z = np.random.geometric(p=0.01655, size=10000) \n",
    "x = np.random.default_rng().geometric(p=0.01655, size=10000)\n",
    "print(z)\n",
    "print(x)\n",
    "\n",
    "estimate = sum(np.random.binomial(6, 0.5,20000)==6)/20000\n",
    "\n",
    "s = np.random.default_rng().geometric(p=estimate, size=10000)\n",
    "\n",
    "import matplotlib.pyplot as plt\n",
    "count, bins, ignored = plt.hist(s, 100, density=True)\n",
    "\n",
    "plt.title('Number of Trials (20,000 coin flips) needed to guarantee success of coin landing on heads six times')\n",
    "plt.ylabel(\"% Probability\")\n",
    "plt.xlabel('Number of Trials needed to guarantee success')\n",
    "plt.grid(True)\n",
    "plt.show()\n",
    "print(estimate)"
   ]
  },
  {
   "cell_type": "markdown",
   "metadata": {},
   "source": [
    "## Forecasting Personnell Needs - using the random.poisson function\n",
    "\n",
    "Your boss has aked you to forecast the security needs for his night club business which operates on Friday nights.\n",
    "\n",
    "After research you have found that having one guard per 100 people is the industry general rule of thumb, this rule does vary with event types. This is the minimum recommended, and your boss is looking to save costs.\n",
    "\n",
    "https://citiguard.com.au/security-guards-event-security/\n",
    "https://www.issinvestigation.com/blog/how-many-security-guards-does-your-business-need/\n",
    "https://www.ccsecurityservices.co.uk/special-event-security-frequently-asked-questions/\n",
    "\n",
    "Your boss has been trading just over a month and a half, you have the data from six Friday nights.\n",
    "410,300,500,270,530,390\n",
    "\n",
    "From this small sample data we can take the average of these days (400) and use the NumPy distribution function called random.poisson to forecast probability of customer numbers on any given Friday across five years."
   ]
  },
  {
   "cell_type": "code",
   "execution_count": 14,
   "metadata": {},
   "outputs": [
    {
     "name": "stdout",
     "output_type": "stream",
     "text": [
      "Actual count of Friday shoppers [410, 300, 500, 270, 530, 390]\n",
      "The average number of customers visiting 6 Fridays is, 400.0\n",
      "There are  313 Fridays 2020 to 2025 inclusive\n",
      "Random data generated by np.random.poisson to represent customer numbers on 313  Fridays \n",
      "\n",
      "[381 393 419 443 414 385 408 422 391 353 406 343 403 400 359 382 415 385\n",
      " 427 392 403 358 324 385 400 369 433 437 378 414 395 394 434 369 365 446\n",
      " 443 429 373 392 395 400 411 351 394 406 406 379 427 409 366 374 410 420\n",
      " 423 393 358 389 404 390 391 400 397 398 401 412 389 413 431 390 379 383\n",
      " 426 391 368 405 372 386 434 407 377 402 404 400 439 411 406 371 364 407\n",
      " 389 435 360 405 401 377 400 403 421 396 396 421 363 390 433 404 396 381\n",
      " 365 391 413 391 405 406 404 388 431 412 383 396 400 403 395 443 404 425\n",
      " 394 424 411 419 393 418 404 377 422 401 406 395 460 394 402 384 377 418\n",
      " 415 389 449 376 385 420 399 377 430 406 435 398 431 423 429 415 370 428\n",
      " 409 408 387 384 433 423 396 398 406 398 440 408 405 397 428 356 393 438\n",
      " 404 415 380 421 389 406 377 380 368 416 414 418 399 397 421 398 435 358\n",
      " 392 423 414 418 371 411 403 426 405 394 384 398 416 390 420 421 394 399\n",
      " 397 383 403 399 389 441 445 411 404 399 373 372 390 396 380 388 392 439\n",
      " 391 393 362 423 375 415 350 421 399 388 411 412 403 395 419 418 445 386\n",
      " 403 403 438 401 408 422 391 407 407 386 377 398 373 389 359 398 433 381\n",
      " 419 422 398 406 432 411 407 406 397 419 436 378 398 383 385 382 395 371\n",
      " 399 404 408 392 425 394 406 396 408 371 388 436 386 386 403 449 387 398\n",
      " 433 381 390 398 392 400 392]\n"
     ]
    },
    {
     "data": {
      "image/png": "[encoded data removed]",
      "text/plain": [
       "<Figure size 432x288 with 1 Axes>"
      ]
     },
     "metadata": {
      "needs_background": "light"
     },
     "output_type": "display_data"
    }
   ],
   "source": [
    "import numpy as np\n",
    "\n",
    "# Count the number of Mondays in a Year\n",
    "Fridays = np.busday_count('2020', '2026', weekmask='Fri') # beginning 2020, ending 2026 e.g. 2020 to 2025 inclusive\n",
    "\n",
    "\n",
    "Count_Of_Friday_Shoppers = [410,300,500,270,530,390]\n",
    "\n",
    "Average_Of_Friday_Shoppers = np.average(Count_Of_Friday_Shoppers)\n",
    "\n",
    "# On average we know there are 400 customers on a Friday night\n",
    "\n",
    "s = np.random.poisson(400,Fridays) #The random Poisson algorithm takes the known average, and the number of Friday events\n",
    "\n",
    "print(\"Actual count of Friday shoppers\", Count_Of_Friday_Shoppers)\n",
    "print(\"The average number of customers visiting 6 Fridays is,\", Average_Of_Friday_Shoppers)\n",
    "print(\"There are \", Fridays, \"Fridays 2020 to 2025 inclusive\")\n",
    "print(\"Random data generated by np.random.poisson to represent customer numbers on\", Fridays, \" Fridays \\n\")\n",
    "print(s)\n",
    "\n",
    "import matplotlib.pyplot as plt\n",
    "count, bins, ignored = plt.hist(s, 10, density=True)\n",
    "\n",
    "plt.ylabel(\"% Probability\")\n",
    "plt.title(\"Probability of numbers of customers on any given Friday 2020 to 2025 inclusive\")\n",
    "plt.xlabel('Number of customers')\n",
    "plt.grid(True)\n",
    "plt.show()"
   ]
  },
  {
   "cell_type": "markdown",
   "metadata": {},
   "source": [
    "As you can see from the graph above, the probability of getting 600 customers is considered zero, any number higher than 475 or lower than 345, according to this data prediction using poisson is considered improbable.\n",
    "The most probable numbers of people visiting the club on a Friday are between 390 and 410, lower or higher numbers are less probable.\n",
    "\n",
    "As you collect more data over time and the observed average changes you can use the new average for forecasting with the poisson function.\n",
    "\n",
    "Underlying the poisson function is the use of Euler's number / Napiers constant which is used mathematics, physics and nature."
   ]
  },
  {
   "cell_type": "markdown",
   "metadata": {},
   "source": [
    "## Randomising many possible outcomes - using the random.multinomial function\n",
    "\n",
    "Next I will show uses of the NumPy random.multinomial function. \n",
    "\n",
    "I have edited a simple example of how the formula works with randomising twenty virtual dice throws, and expanded on that to show how the formula can be used in a virtual game of darts.\n",
    "\n",
    "I found the clearest explanation and examples for this function on https://www.w3schools.com/python/numpy_random_multinomial.asp which I have quoted below in bullet point\n",
    "    \n",
    "The random.multinomial function is used for generating random numbers for Multinomial Distribution.\n",
    "\n",
    "* Multinomial distribution is a generalization of binomial distribution.\n",
    "\n",
    "* It describes outcomes of multi-nomial scenarios unlike binomial where scenarios must be only one of two. e.g. Blood type of a population, dice roll outcome.\n",
    "\n",
    "* It has three parameters:\n",
    "\n",
    "* n - number of possible outcomes (e.g. 6 for dice roll).\n",
    "\n",
    "* pvals - list of probabilties of outcomes (e.g. [1/6, 1/6, 1/6, 1/6, 1/6, 1/6] for dice roll).\n",
    "\n",
    "* size - The shape of the returned array.\n",
    "\n",
    "* Note: Multinomial samples will NOT produce a single value! They will produce one value for each pval.\n",
    "* Note: As they are generalization of binomial distribution their visual representation and similarity of normal distribution is same as that of multiple binomial distributions."
   ]
  },
  {
   "cell_type": "markdown",
   "metadata": {},
   "source": [
    "#### Dice throw simulator using NumPy random.multinomial"
   ]
  },
  {
   "cell_type": "code",
   "execution_count": 15,
   "metadata": {},
   "outputs": [
    {
     "name": "stdout",
     "output_type": "stream",
     "text": [
      "[4 1 4 1 6 4]\n",
      "Number of 1s thrown 4\n",
      "Number of 2s thrown 1\n",
      "Number of 3s thrown 4\n",
      "Number of 4s thrown 1\n",
      "Number of 5s thrown 6\n",
      "Number of 6s thrown 4\n"
     ]
    }
   ],
   "source": [
    "from numpy import random\n",
    "\n",
    "results = random.multinomial(n=20, pvals=[1/6, 1/6, 1/6, 1/6, 1/6, 1/6])\n",
    "\n",
    "print(results)\n",
    "\n",
    "ones = results[0]\n",
    "twos = results[1]\n",
    "threes = results[2]\n",
    "fours = results[3]\n",
    "fives = results[4]\n",
    "sixes = results[5]\n",
    "\n",
    "print(\"Number of 1s thrown\", ones)\n",
    "print(\"Number of 2s thrown\",twos)\n",
    "print(\"Number of 3s thrown\",threes)\n",
    "print(\"Number of 4s thrown\",fours)\n",
    "print(\"Number of 5s thrown\",fives)\n",
    "print(\"Number of 6s thrown\",sixes)"
   ]
  },
  {
   "cell_type": "markdown",
   "metadata": {},
   "source": [
    "#### Virtual Game Of Darts Using NumPy random.multinomial"
   ]
  },
  {
   "cell_type": "markdown",
   "metadata": {},
   "source": [
    "The inspiration for my python code that emulates a virtual game of darts can be taken further, see quote from LinkedIn article below:\n",
    "\n",
    "\"The noble game of darts is quite easy to understand: a dartboard with a diameter of 34 centimeter, divided into 82 sections at a center hight of 1.73 m where you throw three darts at from a distance of 2.37 m. The goal is to collect 501 points with the minimal amount of throws, of which the last one needs to be a ‘double’ in the outer ring of the board. For humans it’s easy to see where each dart has landed and how many points are scored, but our challenge was: can a camera assisted with a computer algorithm do this as well?\"https://www.linkedin.com/pulse/hacking-darts-jos-van-dongen/"
   ]
  },
  {
   "cell_type": "code",
   "execution_count": 16,
   "metadata": {},
   "outputs": [
    {
     "name": "stdout",
     "output_type": "stream",
     "text": [
      "-----------------------------------------------------------------------------------------\n",
      "ROUND: 1\n",
      "-----------------------------------------------------------------------------------------\n",
      "The results below represent the 82 parts of the dart board and three dart throws\n",
      "[0 0 0 0 0 0 0 0 0 1 0 0 0 0 1 0 0 0 0 0 0 0 0 0 0 0 0 0 0 0 0 0 0 0 0 0 0\n",
      " 0 0 0 0 0 0 0 1 0 0 0 0 0 0 0 0 0 0 0 0 0 0 0 0 0 0 0 0 0 0 0 0 0 0 0 0 0\n",
      " 0 0 0 0 0 0 0 0 0]\n",
      "triple_one  thrown 1 Score:3\n",
      "single_eighteen_inner  thrown 1 Score:18\n",
      "single_three_outer  thrown 1 Score:3\n",
      "Score: 24\n",
      "-----------------------------------------------------------------------------------------\n",
      "ROUND: 2\n",
      "-----------------------------------------------------------------------------------------\n",
      "The results below represent the 82 parts of the dart board and three dart throws\n",
      "[0 0 0 0 0 0 0 0 0 0 0 0 0 0 0 0 0 0 0 0 0 0 0 0 0 0 0 0 0 1 0 0 0 0 0 0 0\n",
      " 0 0 0 0 0 0 0 0 0 0 0 0 0 0 0 0 0 0 1 0 0 0 0 1 0 0 0 0 0 0 0 0 0 0 0 0 0\n",
      " 0 0 0 0 0 0 0 0 0]\n",
      "triple_ten  thrown 1 Score:30\n",
      "Score: 94\n",
      "-----------------------------------------------------------------------------------------\n",
      "ROUND: 3\n",
      "-----------------------------------------------------------------------------------------\n",
      "The results below represent the 82 parts of the dart board and three dart throws\n",
      "[0 0 0 0 0 0 0 0 0 0 0 0 0 0 0 0 0 0 0 1 0 0 0 0 0 0 0 0 0 0 0 0 1 0 0 0 0\n",
      " 0 0 0 0 0 0 0 0 0 0 0 0 0 0 0 0 0 0 0 0 0 0 0 0 0 0 0 0 0 0 0 0 0 0 0 0 0\n",
      " 0 0 0 0 1 0 0 0 0]\n",
      "double_thirteen  thrown 1 Score:26\n",
      "single_fifteen_outer  thrown 1 Score:15\n",
      "Score: 147\n",
      "-----------------------------------------------------------------------------------------\n",
      "ROUND: 4\n",
      "-----------------------------------------------------------------------------------------\n",
      "The results below represent the 82 parts of the dart board and three dart throws\n",
      "[0 0 0 0 0 0 1 0 0 0 0 0 0 0 0 0 0 0 0 0 0 0 0 0 0 0 0 0 0 0 0 0 0 0 0 0 0\n",
      " 0 0 0 0 0 0 0 0 0 0 0 0 0 0 0 0 0 0 0 0 0 0 0 0 0 0 0 0 0 0 0 0 0 0 0 0 1\n",
      " 0 1 0 0 0 0 0 0 0]\n",
      "bullseye_inner  thrown 1 Score:50\n",
      "Score: 248\n",
      "-----------------------------------------------------------------------------------------\n",
      "ROUND: 5\n",
      "-----------------------------------------------------------------------------------------\n",
      "The results below represent the 82 parts of the dart board and three dart throws\n",
      "[0 0 0 0 0 0 0 0 0 0 0 0 0 0 0 0 0 0 0 0 0 0 0 0 0 0 0 0 0 0 0 0 0 0 0 1 0\n",
      " 0 0 0 0 0 0 0 0 0 0 0 0 0 1 0 0 0 0 0 0 0 0 1 0 0 0 0 0 0 0 0 0 0 0 0 0 0\n",
      " 0 0 0 0 0 0 0 0 0]\n",
      "double_two  thrown 1 Score:4\n",
      "Score: 287\n",
      "-----------------------------------------------------------------------------------------\n",
      "ROUND: 6\n",
      "-----------------------------------------------------------------------------------------\n",
      "The results below represent the 82 parts of the dart board and three dart throws\n",
      "[0 0 0 0 0 0 0 0 1 0 0 0 0 0 0 0 0 0 0 0 0 0 0 0 0 0 0 0 0 0 0 0 0 0 0 0 0\n",
      " 0 0 0 0 0 0 0 0 0 0 0 1 0 0 0 0 0 0 0 0 0 0 0 0 0 0 0 0 0 0 1 0 0 0 0 0 0\n",
      " 0 0 0 0 0 0 0 0 0]\n",
      "single_one_outer  thrown 1 Score:1\n",
      "Score: 335\n",
      "-----------------------------------------------------------------------------------------\n",
      "ROUND: 7\n",
      "-----------------------------------------------------------------------------------------\n",
      "The results below represent the 82 parts of the dart board and three dart throws\n",
      "[0 0 0 0 0 0 0 0 0 0 0 0 0 0 0 0 0 0 0 0 0 0 0 0 0 0 0 0 0 0 0 0 0 0 0 0 0\n",
      " 0 0 0 0 0 0 0 0 0 0 0 0 0 0 0 0 0 0 0 0 0 0 0 1 0 0 0 0 0 1 0 0 0 0 0 0 0\n",
      " 0 0 0 0 1 0 0 0 0]\n",
      "Score: 366\n",
      "-----------------------------------------------------------------------------------------\n",
      "ROUND: 8\n",
      "-----------------------------------------------------------------------------------------\n",
      "The results below represent the 82 parts of the dart board and three dart throws\n",
      "[0 0 0 0 0 0 0 0 0 0 0 0 0 0 0 0 0 0 0 0 0 0 0 0 0 0 0 0 0 0 0 0 0 0 0 1 1\n",
      " 0 0 0 0 0 0 0 0 0 0 0 0 0 1 0 0 0 0 0 0 0 0 0 0 0 0 0 0 0 0 0 0 0 0 0 0 0\n",
      " 0 0 0 0 0 0 0 0 0]\n",
      "double_two  thrown 1 Score:4\n",
      "single_two_outer  thrown 1 Score:2\n",
      "Score: 391\n",
      "-----------------------------------------------------------------------------------------\n",
      "ROUND: 9\n",
      "-----------------------------------------------------------------------------------------\n",
      "The results below represent the 82 parts of the dart board and three dart throws\n",
      "[0 0 0 0 0 0 0 0 0 0 0 0 0 0 0 0 0 0 0 0 1 0 0 0 0 0 0 0 0 0 0 0 0 0 0 0 0\n",
      " 0 0 0 0 0 0 0 0 0 0 0 0 0 0 0 0 0 0 0 0 0 0 0 2 0 0 0 0 0 0 0 0 0 0 0 0 0\n",
      " 0 0 0 0 0 0 0 0 0]\n",
      "single_outer_thirteen  thrown 1 Score:13\n",
      "Score: 420\n",
      "-----------------------------------------------------------------------------------------\n",
      "ROUND: 10\n",
      "-----------------------------------------------------------------------------------------\n",
      "The results below represent the 82 parts of the dart board and three dart throws\n",
      "[0 0 0 0 0 0 0 0 0 0 0 1 1 0 0 0 0 0 0 0 0 0 0 0 0 0 0 0 0 0 0 0 0 0 0 0 0\n",
      " 0 0 0 0 0 0 0 0 0 0 0 1 0 0 0 0 0 0 0 0 0 0 0 0 0 0 0 0 0 0 0 0 0 0 0 0 0\n",
      " 0 0 0 0 0 0 0 0 0]\n",
      "double_eighteen  thrown 1 Score:36\n",
      "single_eighteen_outer  thrown 1 Score:18\n",
      "Score: 493\n",
      "-----------------------------------------------------------------------------------------\n",
      "ROUND: 11\n",
      "-----------------------------------------------------------------------------------------\n",
      "The results below represent the 82 parts of the dart board and three dart throws\n",
      "[0 0 0 0 0 0 0 0 0 0 0 0 0 0 0 0 0 0 0 0 0 0 0 0 0 1 0 0 0 0 1 0 0 0 0 0 0\n",
      " 0 0 0 0 0 0 0 0 0 0 0 0 0 0 0 0 0 0 0 0 0 0 0 0 0 0 0 0 0 0 0 0 0 0 0 0 0\n",
      " 0 0 0 0 0 0 1 0 0]\n",
      "triple_six  thrown 1 Score:18\n",
      "single_ten_inner  thrown 1 Score:10\n",
      "Score: 526\n"
     ]
    }
   ],
   "source": [
    "from numpy import random\n",
    "\n",
    "count = 0\n",
    "round_count = 1\n",
    "\n",
    "while count < 501:\n",
    "    results = random.multinomial(n=3, pvals=[1/83, 1/83, 1/83, 1/83, 1/83, 1/83, 1/83, 1/83, 1/83, 1/83, \n",
    "                                 1/83, 1/83, 1/83, 1/83, 1/83, 1/83, 1/83, 1/83, 1/83, 1/83,\n",
    "                                 1/83, 1/83, 1/83, 1/83, 1/83, 1/83, 1/83, 1/83, 1/83, 1/83,\n",
    "                                 1/83, 1/83, 1/83, 1/83, 1/83, 1/83, 1/83, 1/83, 1/83, 1/83,\n",
    "                                 1/83, 1/83, 1/83, 1/83, 1/83, 1/83, 1/83, 1/83, 1/83, 1/83,\n",
    "                                 1/83, 1/83, 1/83, 1/83, 1/83, 1/83, 1/83, 1/83, 1/83, 1/83,\n",
    "                                 1/83, 1/83, 1/83, 1/83, 1/83, 1/83, 1/83, 1/83, 1/83, 1/83,\n",
    "                                 1/83, 1/83, 1/83, 1/83, 1/83, 1/83, 1/83, 1/83, 1/83, 1/83, 1/83, 1/83, 1/83])\n",
    "\n",
    "\n",
    "\n",
    "    miss = results[0] #0\n",
    "\n",
    "    double_twenty = results[1] #40\n",
    "    single_twenty_outer = results[2] #20\n",
    "    triple_twenty = results[3] #60\n",
    "    single_twenty_inner = results[4] #20\n",
    "\n",
    "    bullseye_outer = results[5] #25\n",
    "    bullseye_inner = results[6] #50\n",
    "\n",
    "    double_one = results[7] #2\n",
    "    single_one_outer = results[8] #1\n",
    "    triple_one = results[9] #3\n",
    "    single_one_inner = results[10] #1\n",
    "\n",
    "    double_eighteen = results[11] #36\n",
    "    single_eighteen_outer = results[12] #18\n",
    "    triple_eighteen = results[13] # 54\n",
    "    single_eighteen_inner = results[14] #18\n",
    "\n",
    "    double_four = results[15] #8\n",
    "    single_four_outer = results[16] #4\n",
    "    triple_four = results[17] #12\n",
    "    single_four_inner = results[18] #4\n",
    "\n",
    "    double_thirteen = results[19] #26\n",
    "    single_outer_thirteen = results[20] #13\n",
    "    triple_thirteen = results[21] #39\n",
    "    single_inner_thirteen = results[22] # 13\n",
    "\n",
    "    double_six = results[23] #12\n",
    "    single_outer_six = results[24] #6\n",
    "    triple_six = results[25] #18\n",
    "    single_inner_six = results[26] #6\n",
    "\n",
    "    double_ten = results[27] #20\n",
    "    single_ten_outer = results[28] #10\n",
    "    triple_ten = results[29] #30\n",
    "    single_ten_inner = results[30] #10\n",
    "\n",
    "    double_fifteen = results[31] #30\n",
    "    single_fifteen_outer = results[32] #15\n",
    "    triple_fifteen = results[33] #45\n",
    "    single_fifteen_inner = results[34] #15\n",
    "\n",
    "    double_two = results[35] #4\n",
    "    single_two_outer = results[36] #2\n",
    "    triple_two = results[37] #6\n",
    "    single_two_inner = results[38] #2\n",
    "\n",
    "    double_seventeen = results[39] #34\n",
    "    single_seventeen_outer = results[40] #17\n",
    "    triple_seventeen = results[41] #51\n",
    "    single_seventeen_inner = results[42] #17\n",
    "\n",
    "    double_three = results[43] #6\n",
    "    single_three_outer = results[44] #3\n",
    "    triple_three = results[45] #9\n",
    "    single_three_inner = results[46] #3\n",
    "\n",
    "    double_nineteen = results[47] #38\n",
    "    single_nineteen_outer = results[48] #19\n",
    "    triple_nineteen = results[49] #57\n",
    "    single_nineteen_inner = results[50] #19\n",
    "\n",
    "    double_seven = results[51] #14\n",
    "    single_seven_outer = results[52] #7\n",
    "    triple_seven = results[53] #21\n",
    "    single_seven_inner = results[54] #7\n",
    "\n",
    "    double_sixteen = results[55] #32\n",
    "    single_sixteen_outer = results[56] #16\n",
    "    triple_sixteen = results[57] #48\n",
    "    single_sixteen_inner = results[58] #16\n",
    "\n",
    "    double_eight = results[59] #16\n",
    "    single_eight_outer = results[60] #8\n",
    "    triple_eight = results[61] #24\n",
    "    single_eight_inner = results[62] #8\n",
    "\n",
    "    double_eleven = results[63] #22\n",
    "    single_eleven_outer = results[64] #11\n",
    "    triple_eleven = results[65] #33\n",
    "    single_eleven_innwe = results[66] #11\n",
    "\n",
    "    double_fourteen = results[67] #28\n",
    "    single_fourteen_outer = results[68] #14\n",
    "    triple_fourteen = results[69] #42\n",
    "    single_fourteen_inner= results[70] #14\n",
    "\n",
    "    double_nine = results[71] #18\n",
    "    single_nine_inner = results[72] #9\n",
    "    triple_nine = results[73] #27\n",
    "    single_nine_inner = results[74] #9\n",
    "\n",
    "    double_twelve= results[75] #24\n",
    "    single_twelve_inner = results[76] #12\n",
    "    single_twelve_outer = results[77] #12\n",
    "    triple_twelve = results[78] #36\n",
    "\n",
    "    double_five = results[79] #10\n",
    "    single_five_outer = results[80] #5\n",
    "    triple_five = results[81] #15\n",
    "    single_five_inner = results[82] #5\n",
    "\n",
    "\n",
    "\n",
    "    if int(results[0])  >= 1: count += 0 * int(results[0])\n",
    "    if int(results[1])  >= 1: count += 40 * int(results[1])\n",
    "    if int(results[2])  >= 1: count += 20 * int(results[2])\n",
    "    if int(results[3])  >= 1: count += 60 * int(results[3])\n",
    "    if int(results[4])  >= 1: count += 20 * int(results[4])\n",
    "    if int(results[5])  >= 1: count += 25 * int(results[5])\n",
    "    if int(results[6])  >= 1: count += 50 * int(results[6])\n",
    "    if int(results[7])  >= 1: count += 2 * int(results[7])\n",
    "    if int(results[8])  >= 1: count += 1 * int(results[8])\n",
    "    if int(results[9])  >= 1: count += 3 * int(results[9])\n",
    "    if int(results[10])  >= 1: count += 1 * int(results[10])\n",
    "    if int(results[11])  >= 1: count += 36 * int(results[11])\n",
    "    if int(results[12])  >= 1: count += 18 * int(results[12])\n",
    "    if int(results[13])  >= 1: count += 54 * int(results[13])\n",
    "    if int(results[14])  >= 1: count += 18 * int(results[14])\n",
    "    if int(results[15])  >= 1: count += 8 * int(results[15])\n",
    "    if int(results[16])  >= 1: count += 4 * int(results[16])\n",
    "    if int(results[17])  >= 1: count += 12 * int(results[17])\n",
    "    if int(results[18])  >= 1: count += 4 * int(results[18])\n",
    "    if int(results[19])  >= 1: count += 26 * int(results[19])\n",
    "    if int(results[20])  >= 1 : count += 13 * int(results[20])\n",
    "    if int(results[21])  >= 1 : count += 39 * int(results[21])\n",
    "    if int(results[22])  >= 1 : count += 13 * int(results[22])\n",
    "    if int(results[23])  >= 1 : count += 12 * int(results[23])\n",
    "    if int(results[24])  >= 1 : count += 6 * int(results[24])\n",
    "    if int(results[25])  >= 1 : count += 18 * int(results[25])\n",
    "    if int(results[26])  >= 1 : count += 6 * int(results[26])\n",
    "    if int(results[27])  >= 1 : count += 20 * int(results[27])\n",
    "    if int(results[28])  >= 1 : count += 10 * int(results[28])\n",
    "    if int(results[29])  >= 1 : count += 30 * int(results[29])\n",
    "    if int(results[30])  >= 1 : count += 10 * int(results[30])\n",
    "    if int(results[31])  >= 1 : count += 30 * int(results[31])\n",
    "    if int(results[32])  >= 1 : count += 15 * int(results[32])\n",
    "    if int(results[33])  >= 1 : count += 45 * int(results[33])\n",
    "    if int(results[34])  >= 1 : count += 15 * int(results[34])\n",
    "    if int(results[35])  >= 1 and (count + int(results[35]) <=500 ): count += 4 * int(results[35])\n",
    "    if int(results[36])  >= 1 and (count + int(results[36]) <=500 ): count += 2 * int(results[36])\n",
    "    if int(results[37])  >= 1 and (count + int(results[37]) <=500 ): count += 6 * int(results[37])\n",
    "    if int(results[38])  >= 1 and (count + int(results[38]) <=500 ): count += 2 * int(results[38])\n",
    "    if int(results[39])  >= 1 and (count + int(results[39]) <=500 ): count += 34 * int(results[39])\n",
    "    if int(results[40])  >= 1 and (count + int(results[40]) <=500 ): count += 17 * int(results[40])\n",
    "    if int(results[41])  >= 1 and (count + int(results[41]) <=500 ): count += 51 * int(results[41])\n",
    "    if int(results[42])  >= 1 and (count + int(results[42]) <=500 ): count += 17 * int(results[42])\n",
    "    if int(results[43])  >= 1 and (count + int(results[43]) <=500 ): count += 6 * int(results[43])\n",
    "    if int(results[44])  >= 1 and (count + int(results[44]) <=500 ): count += 3 * int(results[44])\n",
    "    if int(results[45])  >= 1 and (count + int(results[45]) <=500 ): count += 9 * int(results[45])\n",
    "    if int(results[46])  >= 1 and (count + int(results[46]) <=500 ): count += 3 * int(results[46])\n",
    "    if int(results[47])  >= 1 and (count + int(results[47]) <=500 ): count += 38 * int(results[47])\n",
    "    if int(results[48])  >= 1 and (count + int(results[48]) <=500 ): count += 19 * int(results[48])\n",
    "    if int(results[49])  >= 1 and (count + int(results[49]) <=500 ): count += 57 * int(results[49])\n",
    "    if int(results[50])  >= 1 and (count + int(results[50]) <=500 ): count += 19 * int(results[50])\n",
    "    if int(results[51])  >= 1 and (count + int(results[51]) <=500 ): count += 14 * int(results[51])\n",
    "    if int(results[52])  >= 1 and (count + int(results[52]) <=500 ): count += 7 * int(results[52])\n",
    "    if int(results[53])  >= 1 and (count + int(results[53]) <=500 ): count += 21 * int(results[53])\n",
    "    if int(results[54])  >= 1 and (count + int(results[54]) <=500 ): count += 7 * int(results[54])\n",
    "    if int(results[55])  >= 1 and (count + int(results[55]) <=500 ): count += 32 * int(results[55])\n",
    "    if int(results[56])  >= 1 and (count + int(results[56]) <=500 ): count += 16 * int(results[56])\n",
    "    if int(results[57])  >= 1 and (count + int(results[57]) <=500 ): count += 48 * int(results[57])\n",
    "    if int(results[58])  >= 1 and (count + int(results[58]) <=500 ): count += 16 * int(results[58])\n",
    "    if int(results[59])  >= 1 and (count + int(results[59]) <=500 ): count += 16 * int(results[59])\n",
    "    if int(results[60])  >= 1 and (count + int(results[60]) <=500 ): count += 8 * int(results[60])\n",
    "    if int(results[61])  >= 1 and (count + int(results[61]) <=500 ): count += 24 * int(results[61])\n",
    "    if int(results[62])  >= 1 and (count + int(results[62]) <=500 ): count += 8 * int(results[62])\n",
    "    if int(results[63])  >= 1 and (count + int(results[63]) <=500 ): count += 22 * int(results[63])\n",
    "    if int(results[64])  >= 1 and (count + int(results[64]) <=500 ): count += 11 * int(results[64])\n",
    "    if int(results[65])  >= 1 and (count + int(results[65]) <=500 ): count += 33 * int(results[65])\n",
    "    if int(results[66])  >= 1 and (count + int(results[66]) <=500 ): count += 11 * int(results[66])\n",
    "    if int(results[67])  >= 1 and (count + int(results[67]) <=500 ): count += 28 * int(results[67])\n",
    "    if int(results[68])  >= 1 and (count + int(results[68]) <=500 ): count += 14 * int(results[68])\n",
    "    if int(results[69])  >= 1 and (count + int(results[69]) <=500 ): count += 42 * int(results[69])\n",
    "    if int(results[70])  >= 1 and (count + int(results[70]) <=500 ): count += 14 * int(results[70])\n",
    "    if int(results[71])  >= 1 and (count + int(results[71]) <=500 ): count += 18 * int(results[71])\n",
    "    if int(results[72])  >= 1 and (count + int(results[72]) <=500 ): count += 9 * int(results[72])\n",
    "    if int(results[73])  >= 1 : count += 27 * int(results[73])\n",
    "    if int(results[74])  >= 1 : count += 9 * int(results[74])\n",
    "    if int(results[75])  >= 1 : count += 24 * int(results[75])\n",
    "    if int(results[76])  >= 1 : count += 12 * int(results[76])\n",
    "    if int(results[77])  >= 1 : count += 36 * int(results[77])\n",
    "    if int(results[78])  >= 1 : count += 12 * int(results[78])\n",
    "    if int(results[79])  >= 1 : count += 10 * int(results[79])\n",
    "    if int(results[80])  >= 1 : count += 5 * int(results[80])\n",
    "    if int(results[81])  >= 1 : count += 15 * int(results[81])\n",
    "    if int(results[82])  >= 1 : count += 5 * int(results[82])\n",
    "\n",
    "\n",
    "    print(\"-----------------------------------------------------------------------------------------\")\n",
    "    print(\"ROUND:\", round_count)\n",
    "    print(\"-----------------------------------------------------------------------------------------\")\n",
    "    print(\"The results below represent the 82 parts of the dart board and three dart throws\")\n",
    "    print(results)\n",
    "    \n",
    "    if int(results[0])  >= 1 : print(\"miss  thrown\",miss ,  \"Score:0\")\n",
    "    if int(results[1])  >= 1 : print(\"double_twenty  thrown\",double_twenty ,  \"Score:40\")\n",
    "    if int(results[2])  >= 1 : print(\"single_twenty_outer  thrown\",single_twenty_outer ,  \"Score:20\")\n",
    "    if int(results[3])  >= 1 : print(\"triple_twenty  thrown\",triple_twenty ,  \"Score:60\")\n",
    "    if int(results[4])  >= 1 : print(\"single_twenty_inner  thrown\",single_twenty_inner ,  \"Score:20\")\n",
    "    if int(results[5])  >= 1 : print(\"bullseye_outer  thrown\",bullseye_outer ,  \"Score:25\")\n",
    "    if int(results[6])  >= 1 : print(\"bullseye_inner  thrown\",bullseye_inner ,  \"Score:50\")\n",
    "    if int(results[7])  >= 1 : print(\"double_one  thrown\",double_one ,  \"Score:2\")\n",
    "    if int(results[8])  >= 1 : print(\"single_one_outer  thrown\",single_one_outer ,  \"Score:1\")\n",
    "    if int(results[9])  >= 1 : print(\"triple_one  thrown\",triple_one ,  \"Score:3\")\n",
    "    if int(results[10])  >= 1 : print(\"single_one_inner  thrown\",single_one_inner ,  \"Score:1\")\n",
    "    if int(results[11])  >= 1 : print(\"double_eighteen  thrown\",double_eighteen ,  \"Score:36\")\n",
    "    if int(results[12])  >= 1 : print(\"single_eighteen_outer  thrown\",single_eighteen_outer ,  \"Score:18\")\n",
    "    if int(results[13])  >= 1 : print(\"triple_eighteen  thrown\",triple_eighteen ,  \"Score:54\")\n",
    "    if int(results[14])  >= 1 : print(\"single_eighteen_inner  thrown\",single_eighteen_inner ,  \"Score:18\")\n",
    "    if int(results[15])  >= 1 : print(\"double_four  thrown\",double_four ,  \"Score:8\")\n",
    "    if int(results[16])  >= 1 : print(\"single_four_outer  thrown\",single_four_outer ,  \"Score:4\")\n",
    "    if int(results[17])  >= 1 : print(\"triple_four  thrown\",triple_four ,  \"Score:12\")\n",
    "    if int(results[18])  >= 1 : print(\"single_four_inner  thrown\",single_four_inner ,  \"Score:4\")\n",
    "    if int(results[19])  >= 1 : print(\"double_thirteen  thrown\",double_thirteen ,  \"Score:26\")\n",
    "    if int(results[20])  >= 1 : print(\"single_outer_thirteen  thrown\",single_outer_thirteen ,  \"Score:13\")\n",
    "    if int(results[21])  >= 1 : print(\"triple_thirteen  thrown\",triple_thirteen ,  \"Score:39\")\n",
    "    if int(results[22])  >= 1 : print(\"single_inner_thirteen  thrown\",single_inner_thirteen ,  \"Score:13\")\n",
    "    if int(results[23])  >= 1 : print(\"double_six  thrown\",double_six ,  \"Score:12\")\n",
    "    if int(results[24])  >= 1 : print(\"single_outer_six  thrown\",single_outer_six ,  \"Score:6\")\n",
    "    if int(results[25])  >= 1 : print(\"triple_six  thrown\",triple_six ,  \"Score:18\")\n",
    "    if int(results[26])  >= 1 : print(\"single_inner_six  thrown\",single_inner_six ,  \"Score:6\")\n",
    "    if int(results[27])  >= 1 : print(\"double_ten  thrown\",double_ten ,  \"Score:20\")\n",
    "    if int(results[28])  >= 1 : print(\"single_ten_outer  thrown\",single_ten_outer ,  \"Score:10\")\n",
    "    if int(results[29])  >= 1 : print(\"triple_ten  thrown\",triple_ten ,  \"Score:30\")\n",
    "    if int(results[30])  >= 1 : print(\"single_ten_inner  thrown\",single_ten_inner ,  \"Score:10\")\n",
    "    if int(results[31])  >= 1 : print(\"double_fifteen  thrown\",double_fifteen ,  \"Score:30\")\n",
    "    if int(results[32])  >= 1 : print(\"single_fifteen_outer  thrown\",single_fifteen_outer ,  \"Score:15\")\n",
    "    if int(results[33])  >= 1 : print(\"triple_fifteen  thrown\",triple_fifteen ,  \"Score:45\")\n",
    "    if int(results[34])  >= 1 : print(\"single_fifteen_inner  thrown\",single_fifteen_inner ,  \"Score:15\")\n",
    "    if int(results[35])  >= 1 : print(\"double_two  thrown\",double_two ,  \"Score:4\")\n",
    "    if int(results[36])  >= 1 : print(\"single_two_outer  thrown\",single_two_outer ,  \"Score:2\")\n",
    "    if int(results[37])  >= 1 : print(\"triple_two  thrown\",triple_two ,  \"Score:6\")\n",
    "    if int(results[38])  >= 1 : print(\"single_two_inner  thrown\",single_two_inner ,  \"Score:2\")\n",
    "    if int(results[39])  >= 1 : print(\"double_seventeen  thrown\",double_seventeen ,  \"Score:34\")\n",
    "    if int(results[40])  >= 1 : print(\"single_seventeen_outer  thrown\",single_seventeen_outer ,  \"Score:17\")\n",
    "    if int(results[41])  >= 1 : print(\"triple_seventeen  thrown\",triple_seventeen ,  \"Score:51\")\n",
    "    if int(results[42])  >= 1 : print(\"single_seventeen_inner  thrown\",single_seventeen_inner ,  \"Score:17\")\n",
    "    if int(results[43])  >= 1 : print(\"double_three  thrown\",double_three ,  \"Score:6\")\n",
    "    if int(results[44])  >= 1 : print(\"single_three_outer  thrown\",single_three_outer ,  \"Score:3\")\n",
    "    if int(results[45])  >= 1 : print(\"triple_three  thrown\",triple_three ,  \"Score:9\")\n",
    "    if int(results[46])  >= 1 : print(\"single_three_inner  thrown\",single_three_inner ,  \"Score:3\")\n",
    " \n",
    "    \n",
    "    print(\"Score:\", count)\n",
    "    round_count += 1"
   ]
  },
  {
   "cell_type": "markdown",
   "metadata": {},
   "source": [
    "# Analysing and Comparing Distribution Differences with random.normal\n",
    "\n",
    "The Normal Distribution is one of the most important distributions.\n",
    "\n",
    "The normal distribution (also called the Gaussian Distribution after the German mathematician Carl Friedrich Gauss) is essentially a frequency distribution curve which is often formed naturally by continuous variables. Height is a good example of a normally distributed variable, it can also be used for probability distribution of many events, eg. IQ Scores, Heartbeat etc. \n",
    "\n",
    "For testing the random.normal distribution function which is used for creating randomised data for normal distribution models, I have collected some sample data, including heights of some of the worlds top boxers, and for comparison collected the height data of the Irish Rugby team.\n",
    "\n",
    "Use the random.normal() method to get a Normal Data Distribution.\n",
    "\n",
    "It has three parameters:\n",
    "\n",
    "loc - (Mean) where the peak of the bell exists.\n",
    "\n",
    "scale - (Standard Deviation) how flat the graph distribution should be.\n",
    "\n",
    "size - The shape of the returned array.\n",
    "\n",
    "https://www.restore.ac.uk/srme/www/fac/soc/wie/research-new/srme/modules/mod1/8/index.html\n",
    "https://www.w3schools.com/python/numpy_random_normal.asp\n",
    "https://docs.scipy.org/doc/numpy-1.15.0/reference/generated/numpy.random.normal.html#numpy.random.normal"
   ]
  },
  {
   "cell_type": "code",
   "execution_count": 17,
   "metadata": {},
   "outputs": [
    {
     "name": "stdout",
     "output_type": "stream",
     "text": [
      "Data Values Used For Generating Random Data For Graph\n",
      "-----------------------------------------------------\n",
      "Boxer mean 1.86\n",
      "Boxer standard deviation 0.09\n",
      "Rugby mean 2\n",
      "Rugby standard deviation 0\n"
     ]
    },
    {
     "data": {
      "image/png": "[encoded data removed]",
      "text/plain": [
       "<Figure size 432x288 with 1 Axes>"
      ]
     },
     "metadata": {
      "needs_background": "light"
     },
     "output_type": "display_data"
    },
    {
     "name": "stdout",
     "output_type": "stream",
     "text": [
      "100 random heights generated based on top rugby boxers\n",
      "[[1.80228452 1.93677929 1.79168005 1.88416442 1.88972001 1.71166978\n",
      "  1.77912357 1.77052908 1.81679396 1.8920908  1.84049815 2.03001511\n",
      "  1.92929481 2.01168506 1.91489828 2.03262825 1.78728404 1.73754137\n",
      "  1.92562251 1.78845943 1.80041081 1.84187587 1.73939059 1.97581165\n",
      "  1.87111147 1.91254308 1.89172904 1.93798473 1.90207539 1.89279127\n",
      "  1.82973387 1.9695187  1.76621213 2.05460971 1.8062463  1.89335134\n",
      "  1.81022514 1.8696825  1.75853318 1.87691264 1.75425147 1.81770274\n",
      "  2.02689598 1.90228429 1.95271168 1.85829404 1.80634414 1.84990315\n",
      "  1.89382124 1.9640245  1.79510408 1.94426053 1.89420727 2.02720413\n",
      "  1.86867022 1.88628376 1.87674379 1.76797488 1.89093762 2.02046483\n",
      "  1.90515111 1.90467545 1.82594697 1.91525128 1.79803672 1.90391504\n",
      "  1.94356424 1.70626904 1.93517322 1.85272523 1.90728122 1.94929015\n",
      "  1.8897581  1.90348693 1.87492021 1.82044941 1.93945315 1.79512422\n",
      "  1.90133564 1.84349788 2.04240679 1.83381497 1.91202053 1.77128402\n",
      "  1.84396897 1.83926025 1.9327022  1.71364545 1.99156802 1.96229136\n",
      "  1.76848673 1.86331523 1.9337304  1.81531358 1.92217263 1.84112556\n",
      "  1.67607949 1.93952108 1.99048395 1.76767642]]\n",
      "100 random heights generated based on top rugby players\n",
      "[[1.84489267 1.83211217 1.89270446 1.8021582  1.85281264 1.79899\n",
      "  1.91523511 1.76822358 1.76074739 1.88692763 1.84157229 1.8240004\n",
      "  1.79744651 1.76225958 1.85099014 1.85594914 1.75332821 1.78100702\n",
      "  1.79801325 1.98074715 1.86372988 1.72074804 1.89567989 1.71364384\n",
      "  1.84704287 1.8342858  1.82406831 1.81860322 1.81805906 1.84406763\n",
      "  1.88173797 1.86195609 1.76933924 1.76565023 1.8135913  1.83223396\n",
      "  1.83953345 1.81896043 1.83966076 1.80840601 1.89168062 1.7455646\n",
      "  1.81519066 1.82383162 1.9171175  1.81240565 1.82045477 1.78239282\n",
      "  1.77385309 1.84223515 1.79692034 1.8513597  1.8253071  1.88862328\n",
      "  1.79043786 1.8276752  1.7915327  1.82543388 1.85958228 1.84421761\n",
      "  1.79732399 1.89075435 1.81742151 1.79280637 1.84221334 1.76849905\n",
      "  1.75632027 1.85723143 1.78056506 1.69330268 1.95591638 1.83427301\n",
      "  1.8013316  1.87312641 1.80014943 1.73831812 1.82322391 1.85327021\n",
      "  1.77149439 1.96347818 1.77869927 1.71695753 1.80758112 1.84644161\n",
      "  1.86748449 1.8393357  1.80584493 1.7624657  1.86436423 1.86504901\n",
      "  1.81983895 1.89608904 1.780216   1.84603662 1.8255081  1.78871739\n",
      "  1.75233805 1.85799925 1.8301185  1.78982531]]\n"
     ]
    }
   ],
   "source": [
    "import statistics\n",
    "from numpy import random\n",
    "import seaborn as sns\n",
    "\n",
    "\"\"\"\n",
    "https://howtheyplay.com/individual-sports/15-Boxing-Champions-with-the-Most-Impressive-ReachArm-Span-in-History\n",
    "\"\"\"\n",
    "\n",
    "#Fighters\tHeight\n",
    "\n",
    "Sony_Liston = 1.85\n",
    "Hasim_Rahman = 1.89\n",
    "James_Douglas = 1.92\n",
    "Sam_Langford = 1.96\n",
    "Steve_Cunningham = 1.91\n",
    "Lennox_Lewis = 1.96\n",
    "Primo_Carnera = 1.98\n",
    "Adonis_Stevenson = 1.80\n",
    "William_Landon_Jones = 1.75\n",
    "Larry_Holmes = 1.91\n",
    "Paul_Williams = 1.85\n",
    "Tommy_Burns = 1.70\n",
    "Marvin_Hagler = 1.75\n",
    "Charley_Burley = 1.75\n",
    "Thomas_Hearns = 1.85\n",
    "\n",
    "#Sample list of boxer heights used for determining the mean and the standard deviation\n",
    "List_Of_Boxer_Heights = [Sony_Liston, Hasim_Rahman, James_Douglas, Sam_Langford, Steve_Cunningham, Lennox_Lewis,\n",
    "                         Primo_Carnera,Adonis_Stevenson,William_Landon_Jones,Larry_Holmes,Paul_Williams,\n",
    "                         Tommy_Burns, Marvin_Hagler,Thomas_Hearns] \n",
    "\n",
    "\"\"\"\"\n",
    "https://www.irishtimes.com/sport/rugby/international/rugby-world-cup-2019-ireland-squad-player-profiles-1.4005345\n",
    "\"\"\"\n",
    "\n",
    "Bundee_Aki = 1.83\n",
    "Joey_Carbery = 1.83\n",
    "Jack_Carty = 1.80\n",
    "Andrew_Conway = 1.80\n",
    "Keith_Earls = 1.78\n",
    "Chris_Farrell = 1.91\n",
    "Robbie_Henshaw = 1.91\n",
    "Rob_Kearney = 1.85\n",
    "Jordan_Larmour = 1.78\n",
    "Luke_McGrath = 1.75\n",
    "Conor_Murray = 1.88\n",
    "\n",
    "\n",
    "#Sample list of rugby player heights used for determining the mean and the standard deviation\n",
    "List_Of_Rugby_Heights = [Bundee_Aki, Joey_Carbery, Jack_Carty, Andrew_Conway, Keith_Earls, Chris_Farrell,\n",
    "                         Robbie_Henshaw, Rob_Kearney, Jordan_Larmour,Luke_McGrath,Conor_Murray]\n",
    "\n",
    "\n",
    "print(\"Data Values Used For Generating Random Data For Graph\")\n",
    "print(\"-----------------------------------------------------\")\n",
    "\n",
    "boxer_mean = statistics.mean(List_Of_Boxer_Heights)\n",
    "boxer_deviation = statistics.stdev(List_Of_Boxer_Heights)\n",
    "print(\"Boxer mean\",round(boxer_mean,2))\n",
    "print(\"Boxer standard deviation\",round(boxer_deviation,2))\n",
    "\n",
    "rugby_mean = statistics.mean(List_Of_Rugby_Heights)\n",
    "rugby_deviation = statistics.stdev(List_Of_Rugby_Heights)\n",
    "\n",
    "print(\"Rugby mean\",round(rugby_mean))\n",
    "print(\"Rugby standard deviation\",round(rugby_deviation))\n",
    "\n",
    "sns.distplot(random.normal(loc=boxer_mean, scale=boxer_deviation, size=(1, 100)), hist=False,label=\"Boxers\")\n",
    "sns.distplot(random.normal(loc=rugby_mean, scale=rugby_deviation, size=(1, 100)), hist=False, label=\"Rugby Players\")\n",
    "plt.title(\"Randomised Data Height Comparison, Based on Top Boxers and Top Rugby Players\")\n",
    "plt.ylabel(\"Number of Sportsmen\")\n",
    "plt.xlabel('Height')\n",
    "plt.grid(True)\n",
    "\n",
    "plt.show()\n",
    "\n",
    "random_height_generation_based_on_top_boxers = random.normal(loc=boxer_mean, scale=boxer_deviation, size=(1, 100))\n",
    "random_height_generation_based_on_top_rugby_players = random.normal(loc=rugby_mean, scale=rugby_deviation, size=(1, 100))\n",
    "\n",
    "print(\"100 random heights generated based on top rugby boxers\")\n",
    "print(random_height_generation_based_on_top_boxers)\n",
    "print(\"100 random heights generated based on top rugby players\")\n",
    "print(random_height_generation_based_on_top_rugby_players)"
   ]
  },
  {
   "cell_type": "markdown",
   "metadata": {},
   "source": [
    "# 4. Explain the use of seeds in generating pseudorandom numbers.\n",
    "\n",
    "Sources:\n",
    "// https://github.com/wblakecannon/DataCamp/blob/master/02-intermediate-python-for-data-science/5-case-study-hacker-statistics/random-float.py\n",
    "https://www.casino.co.uk/guides/random-number-generators/\n",
    "https://en.wikipedia.org/wiki/Online_gambling\n",
    "https://www.statista.com/statistics/270728/market-volume-of-online-gaming-worldwide/\n",
    "\n",
    "The first thing to understand about Random Number Generators which using mathematical procedures to create a single or sequence of seemingly random numbers (pseudorandom numbers), is that a random number generation process in computing **ALWAYS** begins with a seed number or vector from which programmed mathematical procedures generates all other numbers. In NumPy the programmed mathematical procedures used for Random Number Generation (RNG) are called functions, we have examined some of the different types of RNG functions installed in the NumPy package above.\n",
    "\n",
    "To understand the use of seeds in generating pseudorandom numbers, the clearest illustration I can think of is making the comparison between live Casinos and online Casinos. When a card game is played at a live casino, every hand is random. The dealer physically shuffles the deck to mix up the cards. However online casino games use Random Number Generators (RNGs) to create pseudorandom numbers for statistical approximations of what might take place in reality.\n",
    "The online gambling industy is an industry values at over 40 billion dollars a year, and since the introduction of online sports gambling the industry is predicted to become worth over 92.9 billion dollars a year by 2023, however Randon Number Generators for online virtual card and virtual roulette games contribute to a significant profit in the sector. Every Gambler and Computer Hacker would love to know how to predict what the next result will be at the virtual poker or virtual roulette table.\n",
    "\n",
    "A pseudorandom number or pseudorandom numbers are not really random at all, they are a number or a sequence of numbers that satisfying statistical tests for randomness but produced by a definite mathematical procedure. Because pseudorandom number results or sequences are generated by a mathematical procedure, it is possible to get exactly the same results or sequence of numbers if the mathematical procedure is initiated in exactly the same way. This potential predictability of pseudorandom numbers makes online Casinos go to great lengths to conceal the mathematical procedures of their Random Number Generators. \n",
    "\n",
    "When I write, that a random number generation process in computing **ALWAYS** begins with a seed number, either the computer user or programmer sets what the seed is going to be, if the computer user or programmer doesn't set the seed number to begin the mathematical operation then often the software will have an inbuilt method or randomly generating a seed, this would for example be a mathematical procedure that uses the computer system time and date to generate what a seed number would be.\n",
    "\n",
    "When you use NumPY function seed(): you can change the integer that sets RNG, so that your results are the reproducible between simulations. As an argument, it takes an integer of your choosing, e.g. seed(8)\n",
    "\n",
    "**Below I have programmed a game of 'Chase The Ace' where you the user can change the integer value between the brackets in random.seed() to generate a predictable result. Click run on the cell below to play**"
   ]
  },
  {
   "cell_type": "markdown",
   "metadata": {},
   "source": [
    "## CHASE THE ACE VERSION 1 - SET THE SEED VALUE YOURSELF"
   ]
  },
  {
   "cell_type": "code",
   "execution_count": 18,
   "metadata": {},
   "outputs": [
    {
     "name": "stdout",
     "output_type": "stream",
     "text": [
      "King\n"
     ]
    }
   ],
   "source": [
    "#Chase the ace using a seed defined by the user\n",
    "\n",
    "\n",
    "from numpy import random\n",
    "\n",
    "random.seed(3) #try a seed number from below to have a predictable result \n",
    "\n",
    "\"\"\"Seeds 1,78,99 = Jack\n",
    "             2 = Ace\n",
    "           3,4 = King\n",
    "             8 = Queen\n",
    "\"\"\"\n",
    "\n",
    "x = random.choice([3, 5, 7, 9])\n",
    "\n",
    "if x == 3: print(\"Ace\")\n",
    "elif x == 5: print(\"Jack\")\n",
    "elif x == 7: print(\"King\")\n",
    "elif x == 9: print(\"Queen\")"
   ]
  },
  {
   "cell_type": "markdown",
   "metadata": {},
   "source": [
    "If you generate a random NumPy array without using the seed function then the Numpy package will generate and use its own seed, you will get entirely different and seemingly random results, chances are you won't be able to replicate, simulate or repeat the pattern. \n",
    "\n",
    "**Below I have changed the 'Chase The Ace' to remove the user choice of setting what the seed will be. Click run on the cell below to play **"
   ]
  },
  {
   "cell_type": "markdown",
   "metadata": {},
   "source": [
    "## CHASE THE ACE VERSION 2 - LET NUMPY SET THE SEED"
   ]
  },
  {
   "cell_type": "code",
   "execution_count": 19,
   "metadata": {},
   "outputs": [
    {
     "name": "stdout",
     "output_type": "stream",
     "text": [
      "Ace\n"
     ]
    }
   ],
   "source": [
    "#Chase the ace game WITHOUT a seed defined by the user\n",
    "\n",
    "from numpy import random\n",
    "\n",
    "x = random.choice([3, 5, 7, 9])\n",
    "\n",
    "if x == 3: print(\"Ace\")\n",
    "elif x == 5: print(\"Jack\")\n",
    "elif x == 7: print(\"King\")\n",
    "elif x == 9: print(\"Queen\")\n",
    "\n",
    "#Click Run on this cell to play again"
   ]
  },
  {
   "cell_type": "markdown",
   "metadata": {},
   "source": [
    "The seed that NumPy chooses for you if you don't set one uses a system called PGC 64.\n",
    "\n",
    "NumPy until recently used to use the Mersen Twister algorithm for setting seed value but recently changed it to PCG 64. If you Google search 'Mersen Twister algorithm gambling' You will find that there is much discussion about the Mersen Twister algorithm in professional gambling blogs. Ironically the foundation work for the maths that powers much of the security for 21st Century Online Casino games today was done by Marin Mersenne, a French Minim friar, who studied prime numbers in the early 17th century. *In mathematics, a Mersenne prime is a prime number that is one less than a power of two. That is, it is a prime number of the form Mn = 2n − 1 for some integer n. With this prime numbering system it is possible to attain numbers as high as 282,589,933 − 1* https://en.wikipedia.org/wiki/Mersenne_prime\n",
    "\n",
    "*While it has been considered in the past impossible to predict the result of a Mersen Twister Algorithm that uses a very large array of Mersen Prime numbers as seeds*, these days it is now claimed that is **EASY to predict the Mersenne Twister** https://www.pcg-random.org/index.html In laymans terms it is hard explain Mersenne Primes, some brilliant minds in Computer Science have dedicated themselves to the task, and with super computing over the years it has become more possible to identify new Mersenne Primes, *The search for Mersenne primes was revolutionized by the introduction of the electronic digital computer. Alan Turing searched for them on the Manchester Mark 1 in 1949, but the first successful identification of a Mersenne prime, M521, by this means was achieved at 10:00 pm on January 30, 1952 using the U.S. National Bureau of Standards Western Automatic Computer (SWAC) at the Institute for Numerical Analysis at the University of California, Los Angeles, under the direction of Lehmer, with a computer search program written and run by Prof. R. M. Robinson. It was the first Mersenne prime to be identified in thirty-eight years; the next one, M607, was found by the computer a little less than two hours later. Three more — M1279, M2203, and M2281 — were found by the same program in the next several months.https://en.wikipedia.org/wiki/Mersenne_prime\n",
    "\n",
    "*If you want your random number to produce random numbers that can't be easily predicted, you need to use an external source of randomness to kickstart the process. Many random number libraries utterly fail the programmer in this regard, leaving it up to them to figure out how to seed it using external randomness. This approach leaves programmers resorting to weak-but-easy methods. In contrast, the C++ PCG library provides some extras to make this task easy.* https://www.pcg-random.org/useful-features.html \n",
    "\n",
    "NumPy which is largely written in C is able to utilize the PGC cababilities in PGC 64, and now NumPy can provide a stronger basis from randomising seeds than the Mersenne Twister Algorithm.\n",
    "\n",
    "A random seed is a number used to initialize a pseudorandom number generator. For a seed to be used in a pseudorandom number generator, it does not need to be random. Because of the nature of number generating algorithms, so long as the original seed is ignored, the rest of the values that the algorithm generates will follow probability distribution in a pseudorandom manner.\n",
    "\n",
    "In order to protect online casinos programmers have come up with a fool proof solution, which involves using a seed number. This seed number is used by the computer algorithm to produce a random number that determines which card is drawn from a deck of cards. What happens next is even more interesting. That random number is also used as the seed to create the next random number and the process continues over and over."
   ]
  },
  {
   "cell_type": "markdown",
   "metadata": {},
   "source": [
    "## CHASE THE ACE VERSION 3 - HOW CASINOS USE PREVIOUS RESULT FOR NEW SEED"
   ]
  },
  {
   "cell_type": "code",
   "execution_count": 20,
   "metadata": {},
   "outputs": [
    {
     "name": "stdout",
     "output_type": "stream",
     "text": [
      "#GAME ONE#\n",
      "Jack: seed for next game will be 24 which is value of card 5 plus random number 19\n",
      "#Casino now uses result from Game 1, to help randomise the seed for Game 2#\n",
      "\n",
      "#GAME TWO#\n",
      "King: seed for next game will be 26 which is value of card 7 plus random number 19\n",
      "#Casino now uses result from Game 2, to help randomise the seed for Game 3#\n",
      "\n"
     ]
    }
   ],
   "source": [
    "#That random number is also used as the seed to create the next random number and the process continues over and over.\n",
    "\n",
    "from numpy import random\n",
    "\n",
    "x = random.choice([3, 5, 7, 9])\n",
    "y = random.choice([14, 15, 17, 19])\n",
    "\n",
    "print(\"#GAME ONE#\")\n",
    "if x == 3: print(\"Ace: seed for next game will be\", x + y,\"which is value of card 3 plus random number\", y)\n",
    "elif x == 5: print(\"Jack: seed for next game will be\", x + y,\"which is value of card 5 plus random number\", y)\n",
    "elif x == 7: print(\"King: seed for next game will be\", x + y,\"which is value of card 7 plus random number\", y)\n",
    "elif x == 9: print(\"Queen: seed for next game will be\", x + y,\"which is value of card 9 plus random number\", y)\n",
    "\n",
    "print(\"#Casino now uses result from Game 1, to help randomise the seed for Game 2#\\n\")\n",
    "    \n",
    "my_new_seed = x + y #a simplistic algorithm for the next seed\n",
    "\n",
    "random.seed(my_new_seed) #this time the computer uses random generation done on previous seed to create the seed \n",
    "                         #for the next game\n",
    "\n",
    "x = random.choice([3, 5, 7, 9])\n",
    "y = random.choice([14, 15, 17, 19])\n",
    "\n",
    "print(\"#GAME TWO#\")\n",
    "if x == 3: print(\"Ace: seed for next game will be\", x + y,\"which is value of card 3 plus random number\", y)\n",
    "elif x == 5: print(\"Jack: seed for next game will be\", x + y,\"which is value of card 5 plus random number\", y)\n",
    "elif x == 7: print(\"King: seed for next game will be\", x + y,\"which is value of card 7 plus random number\", y)\n",
    "elif x == 9: print(\"Queen: seed for next game will be\", x + y,\"which is value of card 9 plus random number\", y)\n",
    "print(\"#Casino now uses result from Game 2, to help randomise the seed for Game 3#\\n\")"
   ]
  },
  {
   "cell_type": "markdown",
   "metadata": {},
   "source": [
    "I have over simplified the code above to illustrate a point, but if you take the seed number for the next game generated in #GAME ONE# e.g. 'Queen: seed for next game will be 26' and try 26 in the original game CHASE THE ACE VERSION 1, you will get exactly the same card as #GAME TWO# e.g. Jack"
   ]
  },
  {
   "cell_type": "markdown",
   "metadata": {},
   "source": [
    "While I have focussed on gambling and casinos to illustrate use of seeds, below are some other references that I found for other sectors.\n",
    "\n",
    "##### Computer Security and Encryption\n",
    "A random seed (or seed state, or just seed) is a number (or vector) used to initialize a pseudorandom number generator. ... The choice of a good random seed is crucial in the field of computer security. When a secret encryption key is pseudorandomly generated, having the seed will allow one to obtain the key.\n",
    "\n",
    "If the same random seed is deliberately shared, it becomes a secret key, so two or more systems using matching pseudorandom number algorithms and matching seeds can generate matching sequences of non-repeating numbers which can be used to synchronize remote systems, such as GPS satellites and receivers.\n",
    "https://en.wikipedia.org/wiki/Random_seed\n",
    "\n",
    "##### Seeds Clinical Trials\n",
    "Knowing the seed is a good idea. It enables reproducing the analysis, the simulation or the randomization list. If you run a clinical trial, reproducibility is crucial. You must know at the end of the trial which patient was randomized to each treatment; otherwise you will throw all your data to the garbage. During the years I worked at Teva Pharmaceuticals, we took every possible safety measure: We burnt the randomization lists, the randomization SAS code and the randomization seed on a CD and kept it in a fire-proof safe. We also kept all this information in analog media. Yes, we printed the lists, the SAS code and the seed on paper, and these were also kept in the safe.\n",
    "\n",
    "Using the same seed every time is not a good idea. If you use the same seed every time, you get the same sequence of pseudo-random numbers every time, and therefore your numbers are not pseudo-random anymore. Selecting a different seed every time is good practice.\n",
    "\n",
    "How do you select the seed? Taking a number out of your head is still not a good idea. Our heads are biased. Like passwords, people tend to use some seeds more often than other possible seeds. Don’t be surprised if you see codes with seeds like 123, 999 or 31415.\n",
    "\n",
    "The best practice is to choose a random seed, but this creates a magic circle. You can still turn to your old hat and some pieces of paper, but there is a simple alternative: generate the seed from the computer clock.\n",
    "https://www.r-bloggers.com/2019/03/how-to-select-a-seed-for-simulation-or-randomization/\n"
   ]
  },
  {
   "cell_type": "code",
   "execution_count": null,
   "metadata": {},
   "outputs": [],
   "source": []
  }
 ],
 "metadata": {
  "kernelspec": {
   "display_name": "Python 3",
   "language": "python",
   "name": "python3"
  },
  "language_info": {
   "codemirror_mode": {
    "name": "ipython",
    "version": 3
   },
   "file_extension": ".py",
   "mimetype": "text/x-python",
   "name": "python",
   "nbconvert_exporter": "python",
   "pygments_lexer": "ipython3",
   "version": "3.8.3"
  }
 },
 "nbformat": 4,
 "nbformat_minor": 2
}
