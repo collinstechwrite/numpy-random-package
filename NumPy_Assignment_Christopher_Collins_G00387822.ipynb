{
 "cells": [
  {
   "cell_type": "markdown",
   "metadata": {},
   "source": [
    "# Assignment - Programming for Data Analysis - Due: last commit on or before November 22nd\n",
    "\n",
    "The following assignment concerns the numpy.random package in Python. You are\n",
    "required to create a Jupyter notebook explaining the use of the package, including\n",
    "detailed explanations of at least five of the distributions provided for in the package.\n",
    "There are four distinct tasks to be carried out in your Jupyter notebook.\n",
    "\n",
    "1. Explain the overall purpose of the package.\n",
    "2. Explain the use of the “Simple random data” and “Permutations” functions.\n",
    "3. Explain the use and purpose of at least five “Distributions” functions.\n",
    "4. Explain the use of seeds in generating pseudorandom numbers."
   ]
  },
  {
   "cell_type": "markdown",
   "metadata": {},
   "source": [
    "![NumPy](NumPy.jpg)\n",
    "\n",
    "\n",
    "## 1. Explain the overall purpose of the package.\n",
    "\n",
    "##### What is NumPy?\n",
    "NumPy stands for Numerical Python. NumPy is a python library used for working with arrays. It also has functions for working in domain of linear algebra, fourier transform, and matrices. NumPy was created in 2005 by Travis Oliphant.https://www.w3schools.com/python/numpy_intro.asp\n",
    "\n",
    "The functions available in NumPy today weren't avaiable in original versions of Python, as Python wasn't originally designed for numerical computing. A working group felt that it was necessary to create NumPy as a Python library to serve the scientific and engineering community. When Python was being created as a new programming language the Python project wasn't ready to integrate the ideas that now make the NumPy library what it is today. More about how the working group on NumPy evolved can be found on Wikipedia. https://en.wikipedia.org/wiki/NumPy\n",
    "\n",
    "While there may be some overlap between what NumPy offers and what may be integrated into Python's own maths library, NumPy has become the standard to learn in the Data Science and Analytics Community. The NumPy library can easily be imported into Python and functions integrated and work in conjuncton with Python code\n",
    "\n",
    "Some advantages of NumPy are discussed on the w3schools website\n",
    "\n",
    "> - In Python we have lists that serve the purpose of arrays, but they are slow to process.\n",
    "> - NumPy aims to provide an array object that is up to 50x faster that traditional Python lists.\n",
    "> - Arrays are very frequently used in data science, where speed and resources are very important.\n",
    "> - Why is NumPy Faster Than Lists? NumPy arrays are stored at one continuous place in memory unlike lists, so processes can access and manipulate them very efficiently. This behavior is called locality of reference in computer science. This is the main reason why NumPy is faster than lists. Also it is optimized to work with latest CPU architectures.\n",
    "\n",
    "NumPy known for it efficient creation and handling of data arrays, it is like the data scientists toolkit.\n",
    "\n",
    "It has very comprehensive lists of functions that generate randomised data and perform statistical analysis, which work effectively with Python and other modules such as visualisation modules imported into Python.\n",
    "\n",
    "![NumPy](wordart.png)\n",
    "\n",
    "Check out more NumPy functions here https://docs.scipy.org/doc/numpy-1.15.0/reference/routines.random.html\n",
    "\n",
    "#### Why would I use NumPy?\n",
    "\n",
    "![NumPy](advancedmaths.png)\n",
    "\n",
    "When you turn on your phone or start your car, you don't necessarily know the mechanics or the technology under the hood, but that technology does the heavy lifting of otherwise difficult tasks.\n",
    "\n",
    "When a Python programmer uses a NumPy function to perform a complex mathematical operation, they don't have to know how NumPy does it, they just have to be sure that they know the correct data entry points for passing variables into the NumPy function.\n",
    "\n",
    "e.g. this NumPy function below can calculate the probability of heads landing six times in a row if you flip a coin 20,000 times.\n",
    "\n",
    "import numpy as np\n",
    "\n",
    "estimate = sum(np.random.binomial(6, 0.5,20000)==6)/20000\n",
    "\n",
    "print(estimate)\n",
    "\n",
    "Yes a little basic maths is required for operating NumPy and Python, but often the data entry for the maths to make NumPy work is often no more complex than knowing where to stick the key in the ignition of your car, or where to press the on off button on your phone. You have to know a little bit about Python to be able to use NumPy, but you don't have to spend years away in a monastery or PHD to calculate the mathematical solution, you just copy paste snippets of code from the NumPy documents and carefully follow instructions for the data entry points.\n",
    "\n",
    "With libraries like NumPy, lack of advanced maths isn't necessarily a bar to a data analytics or programming career.\n",
    "\n",
    "The kind of things you might calculate rapidly with NumPy, are often things that are useful to know in everyday business, for example you don't have to be solving something as complex as the the theory of relativity, you could be dealing with a staffing and logistical question such as what is the likelihood that 600 customers will walk through a shop door, something that many managers may guestimate on experience can instead using NumPy, Python and available data provide a company with mathematical prediction.\n",
    "\n",
    "##### What is numpy.random package\n",
    "\n",
    "The numpy.random package has many different functions for creating random numbered arrays.\n",
    "They include \n",
    "\n",
    "**rand**<br>\n",
    "randn<br>\n",
    "**randint**<br>\n",
    "random_integers<br>\n",
    "random_sample<br>\n",
    "random<br>\n",
    "ranf<br>\n",
    "sample<br>\n",
    "choice<br>\n",
    "bytes<br>\n",
    "\n",
    "More details on how each of the different NumPy functions above generate random numbered arrays can be found on the link below \n",
    "https://docs.scipy.org/doc/numpy-1.15.0/reference/routines.random.html\n",
    "\n",
    "The overall purpose of the numpy.random package is to be able to serve the needs of different data scientists and programmers requiring different randomisation models.\n",
    "\n",
    "Randomisation is a specialist field of computer science and there isn't a one size fits all right way of doing randomisation. Therefore the contributors and developers of numpy.random over time have added more and more options and choices of randomisation functions so that data analysts and developers can simulate and develop many different random datasets used for random scenarios."
   ]
  },
  {
   "cell_type": "markdown",
   "metadata": {},
   "source": [
    "# 2. Explain the use of the “Simple random data” and “Permutations” functions."
   ]
  },
  {
   "cell_type": "markdown",
   "metadata": {},
   "source": [
    "## How to use NumPy Simple Random Data Functions\n",
    "\n",
    "NumPy offers the random module to work with random numbers.\n",
    "There are two basic NumPy Simple Random Data Functions that every data analyst or scientist should know, they are randint() and rand()\n",
    "\n",
    "These two NumPy functions alone can be used to:\n",
    "\n",
    "* Generate Single Random Numbers\n",
    "* Generate Arrays of Random Numbers \n",
    "* Generating Multi Dimensional Arrays of Random Numbers\n",
    "\n",
    "While there are other Simple random data functions in NumPy, I will just give you a quick overview of how to use the randint() and rand() functions, because these two functions alone provide a great foundation to understanding the capabilities of NumPy. Without the beginner understanding these two basic functional capabilities within NumPy a lot of the other potential of NumPy is lost."
   ]
  },
  {
   "cell_type": "markdown",
   "metadata": {},
   "source": [
    "### Are you working with random integers or random floats?\n",
    "\n",
    "Whether you use randint() or rand(), depends on whether you are working with integer data or data that may also contain floats (decimal places).\n",
    "\n",
    "When considering what is the best NumPy option to use for your task, you need to consider whether you are needing random data values that are entirely integers or numbers that could possibly include floats.\n",
    "\n",
    "Integers and floats are two different kinds of numerical data. An integer (more commonly called an int) is a number without a decimal point. A float is a floating-point number, which means it is a number that has a decimal place. Floats are used when more precision is needed.https://processing.org/examples/integersfloats.html\n",
    "\n",
    "It is important to consider the difference between integers and floats because NumPy is an add-on to Python, and Python like other programming languages treats integers and floats as two different data types, and there are slightly different programming nuances for working with integers and floats."
   ]
  },
  {
   "cell_type": "markdown",
   "metadata": {},
   "source": [
    "#### Working with integers\n",
    "\n",
    "If you want to work with integers e.g. numbers without a decimal point and say generate a random integer from 0 to 100, you would use the randint function \n",
    "\n",
    "You can use the randint function to generate a single random number as shown in the example below https://www.w3schools.com/python/numpy_random.asp"
   ]
  },
  {
   "cell_type": "code",
   "execution_count": 22,
   "metadata": {},
   "outputs": [
    {
     "name": "stdout",
     "output_type": "stream",
     "text": [
      "95\n"
     ]
    }
   ],
   "source": [
    "from numpy import random\n",
    "\n",
    "x = random.randint(100)\n",
    "\n",
    "print(x)"
   ]
  },
  {
   "cell_type": "markdown",
   "metadata": {},
   "source": [
    "You can also create a random array of numbers e.g 5 random numbers between zero and a hundred, for integer numbers you would do it like the example below https://www.w3schools.com/python/numpy_random.asp"
   ]
  },
  {
   "cell_type": "code",
   "execution_count": 26,
   "metadata": {},
   "outputs": [
    {
     "name": "stdout",
     "output_type": "stream",
     "text": [
      "[44 22 86 31 42]\n"
     ]
    }
   ],
   "source": [
    "from numpy import random\n",
    "\n",
    "x=random.randint(100, size=(5))\n",
    "\n",
    "print(x)"
   ]
  },
  {
   "cell_type": "markdown",
   "metadata": {},
   "source": [
    "Infact one of the great functionalities about NumPy is its ability to work with and create arrays, you can generate multiple dimensional arrays, such as this 2-D array with 3 rows, each row containing 5 random integers from 0 to 100: https://www.w3schools.com/python/numpy_random.asp"
   ]
  },
  {
   "cell_type": "code",
   "execution_count": 25,
   "metadata": {},
   "outputs": [
    {
     "name": "stdout",
     "output_type": "stream",
     "text": [
      "[[50 26  3 31 42]\n",
      " [50 28 70 68 12]\n",
      " [44 65 30 92 38]]\n"
     ]
    }
   ],
   "source": [
    "from numpy import random\n",
    "\n",
    "x = random.randint(100, size=(3, 5))\n",
    "\n",
    "print(x)"
   ]
  },
  {
   "cell_type": "markdown",
   "metadata": {},
   "source": [
    "#### Working with floats\n",
    "\n",
    "If you want to work with floats e.g. decimal numbers and say generate a random decimal value, you can use the random module's rand() method returns a random float between 0 and 1"
   ]
  },
  {
   "cell_type": "code",
   "execution_count": 23,
   "metadata": {},
   "outputs": [
    {
     "name": "stdout",
     "output_type": "stream",
     "text": [
      "0.29752689041485203\n"
     ]
    }
   ],
   "source": [
    "from numpy import random\n",
    "\n",
    "x = random.rand()\n",
    "\n",
    "print(x)"
   ]
  },
  {
   "cell_type": "markdown",
   "metadata": {},
   "source": [
    "Generate a 2-D array with 3 rows, each row containing 5 random numbers:https://www.w3schools.com/python/numpy_random.asp"
   ]
  },
  {
   "cell_type": "code",
   "execution_count": 1,
   "metadata": {},
   "outputs": [
    {
     "name": "stdout",
     "output_type": "stream",
     "text": [
      "[[0.12112387 0.94431317 0.77664247 0.81737795 0.50281178]\n",
      " [0.83953258 0.9786136  0.94240128 0.98642523 0.7414579 ]\n",
      " [0.75920518 0.60277027 0.4061959  0.68533991 0.03736145]]\n"
     ]
    }
   ],
   "source": [
    "from numpy import random\n",
    "\n",
    "x = random.rand(3, 5)\n",
    "\n",
    "print(x)"
   ]
  },
  {
   "cell_type": "markdown",
   "metadata": {},
   "source": [
    "![NumPy](randomNumbers.png)\n",
    "\n",
    "#### Why use / generate random data?\n",
    "\n",
    "Sometimes you might be developing a software application that has a reporting capability but no data from users.\n",
    "Being able to generate randomised data within realistic ranges that you would expect from the software users is one reason why you would generate random data."
   ]
  },
  {
   "cell_type": "markdown",
   "metadata": {},
   "source": [
    "## How to use NumPy Permutation Functions\n",
    "\n",
    "NumPy has two permutations functions, one is called shuffle and the other is called permutation.\n",
    "\n",
    "To make it a little bit more interesting for the reader, and hopefully more clear for the reader I am going to illustrate how the NumPy Permutation Functions would work, in some code examples with a virtual set of playing cards.\n",
    "\n",
    "Excluding the Jokers, most packs of playing cards have 52 cards.\n",
    "A pack contains what is known as the 4 suits, and each suit contains 13 cards. \n",
    "A suit will contain the following cards Ace, Jack, Queen, King and numbers from 2 to 10.\n",
    "Playing cards are linked to folklore and mysticism. \n",
    "The 4 suits are clubs, spades, hearts and diamonds ♣️♠️♥️♦️, some people say the 4 suits represent the four seaons.\n",
    "Some people say the 13 cards in each suit represent the number of people at the last supper.\n",
    "That is the easy way I remember 4 suits and 13 playing cards in each suit.\n",
    "\n",
    "Now we are going to have a little fun with Python and NumPy, creating, sorting and shuffling virtual card decks.\n",
    "\n",
    "The first thing to remember is Python starts counting at zero, so a virtual deck of cards created with Python, is counted from 0 to 51. \n",
    "\n",
    "If you see Python print an ordered sequence like this\n",
    "0  1  2  3  4  5  6  7  8  9 10 11 12 \n",
    "13 14 15 16 17 18 19 20 21 22 23 24 25\n",
    "26 27 28 29 30 31 32 33 34 35 36 37 38 \n",
    "39 40 41 42 43 44 45 46 47 48 49 50 51\n",
    "\n",
    "You got to imagine that in reality it really looks like this\n",
    "\n",
    "\"A♣️\",\"J♣️\",\"Q♣️\",\"K♣️\",\"2♣️\",\"3♣️\",\"4♣️\",\"5♣️\",\"6♣️\",\"7♣️\",\"8♣️\",\"9♣️\",\"10♣️\",\n",
    "\"A♠️\",\"J♠️\",\"Q♠️\",\"K♠️\",\"2♠️\",\"3♠️\",\"4♠️\",\"5♠️\",\"6♠️\",\"7♠️\",\"8♠️\",\"9♠️\",\"10♠️\",\n",
    "\"A♥️\",\"J♥️\",\"Q♥️\",\"K♥️\",\"2♥️\",\"3♥️\",\"4♥️\",\"5♥️\",\"6♥️\",\"7♥️\",\"8♥️\",\"9♥️\",\"10♥️\",\n",
    "\"A♦️\",\"J♦️\",\"Q♦️\",\"K♦️\",\"2♦️\",\"3♦️\",\"4♦️\",\"5♦️\",\"6♦️\",\"7♦️\",\"8♦️\",\"9♦️\",\"10♦️\"\n",
    "\n",
    "\n",
    "Later in my code I will be swapping the integer values 0 - 51 with playing card names, but first let us have a quick basic look at the NumPy shuffle function.\n",
    "\n",
    "### shuffle(x)\n",
    "The first is called shuffle\n",
    "\n",
    "**numpy.random.shuffle**\n",
    "\n",
    "shuffle(x)\tModify a sequence in-place by shuffling its contents.\n",
    "\n",
    "Think of the NumPy shuffle option like shuffling a deck of cards, applying the function shuffles the positions of the cards but it doesn't change the contents of the deck."
   ]
  },
  {
   "cell_type": "code",
   "execution_count": 58,
   "metadata": {},
   "outputs": [
    {
     "name": "stdout",
     "output_type": "stream",
     "text": [
      "You are going to have to use your imagination and think of the 52 sequenced values below as 52 cards\n",
      "[ 0  1  2  3  4  5  6  7  8  9 10 11 12 13 14 15 16 17 18 19 20 21 22 23\n",
      " 24 25 26 27 28 29 30 31 32 33 34 35 36 37 38 39 40 41 42 43 44 45 46 47\n",
      " 48 49 50 51]\n",
      "Now NumPy has shuffled the deck\n",
      "[38  6 20  1 13 23 37 46  7 43  4 28 30 27 49 17 45 24 22 35 26  8 44 34\n",
      " 33 29  2 40 39  3 51 18 50 11 10 31 36 32  9  5 19 48 14 15 42  0 25 47\n",
      " 41 12 16 21]\n"
     ]
    }
   ],
   "source": [
    "import numpy as np\n",
    "\n",
    "#I have no cards, arrange generates me a virtual arranged deck\n",
    "arr = np.arange(52)\n",
    "print(\"You are going to have to use your imagination and think of the 52 sequenced values below as 52 cards\")\n",
    "print(arr)\n",
    "\n",
    "#I now use the shuffle function to shuffle the virtual arranged deck\n",
    "np.random.shuffle(arr)\n",
    "print(\"Now NumPy has shuffled the deck\")\n",
    "print(arr)"
   ]
  },
  {
   "cell_type": "markdown",
   "metadata": {},
   "source": [
    "#### Shuffling virtual deck\n",
    "*Still struggling to see what NumPy shuffle is doing? Don't worry here is more realistic looking deck of virtual cards.\n"
   ]
  },
  {
   "cell_type": "code",
   "execution_count": 64,
   "metadata": {},
   "outputs": [
    {
     "name": "stdout",
     "output_type": "stream",
     "text": [
      "A sorted deck of cards\n",
      "['A♣️', 'J♣️', 'Q♣️', 'K♣️', '2♣️', '3♣️', '4♣️', '5♣️', '6♣️', '7♣️', '8♣️', '9♣️', '10♣️', 'A♠️', 'J♠️', 'Q♠️', 'K♠️', '2♠️', '3♠️', '4♠️', '5♠️', '6♠️', '7♠️', '8♠️', '9♠️', '10♠️', 'A♥️', 'J♥️', 'Q♥️', 'K♥️', '2♥️', '3♥️', '4♥️', '5♥️', '6♥️', '7♥️', '8♥️', '9♥️', '10♥️', 'A♦️', 'J♦️', 'Q♦️', 'K♦️', '2♦️', '3♦️', '4♦️', '5♦️', '6♦️', '7♦️', '8♦️', '9♦️', '10♦️']\n",
      "A shuffled deck of cards\n",
      "['3♣️', '7♥️', '6♣️', 'Q♠️', '7♦️', '7♣️', '10♣️', '9♥️', 'J♥️', '4♥️', '7♠️', '4♦️', '2♥️', '4♣️', '9♦️', '5♥️', '3♥️', '8♥️', 'A♣️', '10♥️', 'A♦️', 'J♣️', '9♠️', '8♣️', '6♥️', '2♣️', 'Q♥️', '10♦️', '2♠️', 'Q♦️', '10♠️', '4♠️', 'K♦️', '3♦️', 'A♥️', '8♦️', 'K♥️', 'J♠️', 'J♦️', '8♠️', '2♦️', '6♦️', '9♣️', 'Q♣️', 'K♣️', '5♣️', '3♠️', '6♠️', '5♠️', '5♦️', 'K♠️', 'A♠️']\n"
     ]
    }
   ],
   "source": [
    "import numpy as np\n",
    "\n",
    "build_a_deck = [\"A♣️\",\"J♣️\",\"Q♣️\",\"K♣️\",\"2♣️\",\"3♣️\",\"4♣️\",\"5♣️\",\"6♣️\",\"7♣️\",\"8♣️\",\"9♣️\",\"10♣️\",\n",
    "                \"A♠️\",\"J♠️\",\"Q♠️\",\"K♠️\",\"2♠️\",\"3♠️\",\"4♠️\",\"5♠️\",\"6♠️\",\"7♠️\",\"8♠️\",\"9♠️\",\"10♠️\",\n",
    "                \"A♥️\",\"J♥️\",\"Q♥️\",\"K♥️\",\"2♥️\",\"3♥️\",\"4♥️\",\"5♥️\",\"6♥️\",\"7♥️\",\"8♥️\",\"9♥️\",\"10♥️\",\n",
    "                \"A♦️\",\"J♦️\",\"Q♦️\",\"K♦️\",\"2♦️\",\"3♦️\",\"4♦️\",\"5♦️\",\"6♦️\",\"7♦️\",\"8♦️\",\"9♦️\",\"10♦️\"]\n",
    "               \n",
    "print(\"A sorted deck of cards\")\n",
    "print(build_a_deck)\n",
    "        \n",
    "#I now use the shuffle function to shuffle the virtual arranged deck\n",
    "\n",
    "np.random.shuffle(build_a_deck)\n",
    "\n",
    "print(\"A shuffled deck of cards\")\n",
    "print(build_a_deck)"
   ]
  },
  {
   "cell_type": "markdown",
   "metadata": {},
   "source": [
    "#### The Multi-dimensional array shuffle\n",
    "\n",
    "If you apply the NumPy shuffle option to a Multi-dimensional arrays are only shuffled along the first axis:\n",
    "See example below"
   ]
  },
  {
   "cell_type": "code",
   "execution_count": 3,
   "metadata": {
    "scrolled": true
   },
   "outputs": [
    {
     "name": "stdout",
     "output_type": "stream",
     "text": [
      "Cards sorted in 4 boxes\n",
      "[[ 0  1  2  3  4  5  6  7  8  9 10 11 12]\n",
      " [13 14 15 16 17 18 19 20 21 22 23 24 25]\n",
      " [26 27 28 29 30 31 32 33 34 35 36 37 38]\n",
      " [39 40 41 42 43 44 45 46 47 48 49 50 51]] \n",
      "\n",
      "4 boxes shuffled using the Shuffle function\n",
      "[[13 14 15 16 17 18 19 20 21 22 23 24 25]\n",
      " [39 40 41 42 43 44 45 46 47 48 49 50 51]\n",
      " [ 0  1  2  3  4  5  6  7  8  9 10 11 12]\n",
      " [26 27 28 29 30 31 32 33 34 35 36 37 38]] \n",
      "\n"
     ]
    }
   ],
   "source": [
    "import numpy as np\n",
    "arr = np.arange(52).reshape((4, 13))\n",
    "print(\"Cards sorted in 4 boxes\")\n",
    "print(arr, \"\\n\")\n",
    "\n",
    "np.random.shuffle(arr)\n",
    "print(\"4 boxes shuffled using the Shuffle function\")\n",
    "print(arr,\"\\n\")"
   ]
  },
  {
   "cell_type": "markdown",
   "metadata": {},
   "source": [
    "#### .... and now with virtual cards"
   ]
  },
  {
   "cell_type": "code",
   "execution_count": 63,
   "metadata": {},
   "outputs": [
    {
     "name": "stdout",
     "output_type": "stream",
     "text": [
      "virtual card arrays sorted in 4 virtual boxes\n",
      "[['A♣️' 'J♣️' 'Q♣️' 'K♣️' '2♣️' '3♣️' '4♣️' '5♣️' '6♣️' '7♣️' '8♣️' '9♣️'\n",
      "  '10♣️']\n",
      " ['A♠️' 'J♠️' 'Q♠️' 'K♠️' '2♠️' '3♠️' '4♠️' '5♠️' '6♠️' '7♠️' '8♠️' '9♠️'\n",
      "  '10♠️']\n",
      " ['A♥️' 'J♥️' 'Q♥️' 'K♥️' '2♥️' '3♥️' '4♥️' '5♥️' '6♥️' '7♥️' '8♥️' '9♥️'\n",
      "  '10♥️']\n",
      " ['A♦️' 'J♦️' 'Q♦️' 'K♦️' '2♦️' '3♦️' '4♦️' '5♦️' '6♦️' '7♦️' '8♦️' '9♦️'\n",
      "  '10♦️']] \n",
      "\n",
      "4 virtual boxes shuffled using the Shuffle function\n",
      "[['A♠️' 'J♠️' 'Q♠️' 'K♠️' '2♠️' '3♠️' '4♠️' '5♠️' '6♠️' '7♠️' '8♠️' '9♠️'\n",
      "  '10♠️']\n",
      " ['A♥️' 'J♥️' 'Q♥️' 'K♥️' '2♥️' '3♥️' '4♥️' '5♥️' '6♥️' '7♥️' '8♥️' '9♥️'\n",
      "  '10♥️']\n",
      " ['A♣️' 'J♣️' 'Q♣️' 'K♣️' '2♣️' '3♣️' '4♣️' '5♣️' '6♣️' '7♣️' '8♣️' '9♣️'\n",
      "  '10♣️']\n",
      " ['A♦️' 'J♦️' 'Q♦️' 'K♦️' '2♦️' '3♦️' '4♦️' '5♦️' '6♦️' '7♦️' '8♦️' '9♦️'\n",
      "  '10♦️']] \n",
      "\n",
      "Note only the order of the arrays may have changed in the shuffled not the order within each array\n"
     ]
    }
   ],
   "source": [
    "import numpy as np\n",
    "\n",
    "\n",
    "build_a_deck = [\"A♣️\",\"J♣️\",\"Q♣️\",\"K♣️\",\"2♣️\",\"3♣️\",\"4♣️\",\"5♣️\",\"6♣️\",\"7♣️\",\"8♣️\",\"9♣️\",\"10♣️\",\n",
    "                \"A♠️\",\"J♠️\",\"Q♠️\",\"K♠️\",\"2♠️\",\"3♠️\",\"4♠️\",\"5♠️\",\"6♠️\",\"7♠️\",\"8♠️\",\"9♠️\",\"10♠️\",\n",
    "                \"A♥️\",\"J♥️\",\"Q♥️\",\"K♥️\",\"2♥️\",\"3♥️\",\"4♥️\",\"5♥️\",\"6♥️\",\"7♥️\",\"8♥️\",\"9♥️\",\"10♥️\",\n",
    "                \"A♦️\",\"J♦️\",\"Q♦️\",\"K♦️\",\"2♦️\",\"3♦️\",\"4♦️\",\"5♦️\",\"6♦️\",\"7♦️\",\"8♦️\",\"9♦️\",\"10♦️\"]\n",
    "\n",
    "\n",
    "build_a_deck = np.array(build_a_deck)\n",
    "build_a_deck = build_a_deck.reshape((4, 13))\n",
    "\n",
    "\n",
    "print(\"virtual card arrays sorted in 4 virtual boxes\")\n",
    "print(build_a_deck, \"\\n\")\n",
    "\n",
    "np.random.shuffle(build_a_deck)\n",
    "print(\"4 virtual boxes shuffled using the Shuffle function\")\n",
    "print(build_a_deck,\"\\n\")\n",
    "print(\"Note only the order of the arrays may have changed in the shuffled not the order within each array\")"
   ]
  },
  {
   "cell_type": "markdown",
   "metadata": {},
   "source": [
    "### permutation(x)\n",
    "\n",
    "The second is called permutation\n",
    "\n",
    "**numpy.random.permutation**\n",
    "\n",
    "Randomly permute a sequence, or return a permuted range.\n",
    "\n",
    "I compared NumPy shuffle as analogous to shuffling a deck of cards, imagine you didn't have a deck of cards, and you quickly wanted to create a sequence of numbers already shuffled, this is when you would call the permutation function, np.random.permutation(52) produces your virtual deck already shuffled i.e. numbers 0 to 51 in a mixed order. These are not random numbers, these are a sequence of numbers 0 to 52 arranged randomly. If you were to do a numpy\n",
    "\n",
    "If the sequence already exists the permutate function operates in the same way as shuffle, it changes the order of the sequence without altering the content of the sequence.\n",
    "\n",
    "Permutation function only shuffles Multi-dimensional arrays along the first axis in the same way as the shuffle function does.\n",
    "\n",
    "**Obeservations**\n",
    "There is not really any visible distinction between how the shuffle and permutation function work when calling in place arrays."
   ]
  },
  {
   "cell_type": "code",
   "execution_count": 65,
   "metadata": {},
   "outputs": [
    {
     "name": "stdout",
     "output_type": "stream",
     "text": [
      "[13 34 16 28  8 43 44 40  3 46 45 26 17 39 36 51  7  2 20  0 42 22  6 41\n",
      " 21 27 50 38  9 35 30 49 37 32 23 18 47 33 29 24 31 12 11 19 10  1  4 25\n",
      " 15 48  5 14]\n"
     ]
    }
   ],
   "source": [
    "\n",
    "#I have no cards, permutation generates me a virtual shuffled deck\n",
    "\n",
    "import numpy as np\n",
    "perm = np.random.permutation(52)\n",
    "print(perm)"
   ]
  },
  {
   "cell_type": "code",
   "execution_count": 10,
   "metadata": {},
   "outputs": [
    {
     "name": "stdout",
     "output_type": "stream",
     "text": [
      "Cards sorted in 4 boxes\n",
      "[[ 0  1  2  3  4  5  6  7  8  9 10 11 12]\n",
      " [13 14 15 16 17 18 19 20 21 22 23 24 25]\n",
      " [26 27 28 29 30 31 32 33 34 35 36 37 38]\n",
      " [39 40 41 42 43 44 45 46 47 48 49 50 51]] \n",
      "\n",
      "4 boxes shuffled using the permutation function\n",
      "[[39 40 41 42 43 44 45 46 47 48 49 50 51]\n",
      " [26 27 28 29 30 31 32 33 34 35 36 37 38]\n",
      " [13 14 15 16 17 18 19 20 21 22 23 24 25]\n",
      " [ 0  1  2  3  4  5  6  7  8  9 10 11 12]] \n",
      "\n"
     ]
    }
   ],
   "source": [
    "import numpy as np\n",
    "arr = np.arange(52).reshape((4, 13))\n",
    "print(\"Cards sorted in 4 boxes\")\n",
    "print(arr, \"\\n\")\n",
    "\n",
    "perm = np.random.permutation(arr)\n",
    "print(\"4 boxes shuffled using the permutation function\")\n",
    "print(perm,\"\\n\")"
   ]
  },
  {
   "cell_type": "markdown",
   "metadata": {},
   "source": [
    "# 3. Explain the use and purpose of at least five “Distributions” functions.\n",
    "\n",
    "Next we are going to look at the purpose of five distribution functions that NumPy provides.\n",
    "\n",
    "Like many people reading the NumPy docs, if you haven't got an advanced mathematical background looking at a list of NumPy mathematical functions is quite overwhelming. Once you understand that every NumPy function solves a mathematical problem doing the heavy lifting work for you, as a non mathematician you can feel very encouraged, you can start Googling for what is the best NumPy function to help you solve your question and create brilliant mathematical visualisations by incorporating Matplotlib and Seaborn into your Python code.\n",
    "\n",
    "Distribution functions have been created within NumPy to help solve common mathematical and scientific problems that the mathematical and scientific community have over time created formulas to solve. As a lay person I don't necessarily need to understand all of the math and science behind the formula, I just need to be able to find the right NumPy distribution function to help me with it. With all of the Distribution functions below, I am not even going to pretend that I understand the math behind the function, but I will best as possible show you the purpose of five of the distribution functions provided in NumPy and how they can answer a mathematical question.\n",
    "\n",
    "Whether you are trying to calculate the likelihood of a coin landing on tails six times in a row in 20,000 coin flips, or the likelihood of 600 customers arriving at your shop on a Friday night, the frequency that customers spend up to $6,000 dollars in a particular location ... NumPy has a function that will help you solve it.\n",
    "\n",
    "I will show you five NumPy distribution functions one for each mathematical problem below.\n",
    "\n",
    "https://docs.scipy.org/doc/scipy/reference/stats.html"
   ]
  },
  {
   "cell_type": "markdown",
   "metadata": {},
   "source": [
    "## What is the frequency that customers spend up to 6,000 dollars in a particular location\n",
    "\n",
    "If I was to wonder 'What is the frequency that customers spend up to 6,000 dollars in a particular location' I would use the cumfreq function.\n",
    "\n",
    "cumfreq(a[, numbins, defaultreallimits, weights]) \n",
    "Return a cumulative frequency histogram, using the histogram function.\n",
    "https://www.youtube.com/results?search_query=cumfreq+numpy\n",
    "https://www.statisticshowto.com/cumulative-frequency-distribution"
   ]
  },
  {
   "cell_type": "markdown",
   "metadata": {},
   "source": [
    "## What is the probability that 600 customers will come in on any given Friday night?\n",
    "\n",
    "If I was working for a video store that averages 400 customers every Friday night and trying to calculate what is the probability that 600 customers will come in on any given Friday night I would use the poisson function\n",
    "\n",
    "poisson(*args, **kwds) - A Poisson discrete random variable.\n",
    "https://youtu.be/dGhDzCJryGA\n",
    "https://youtu.be/DfElR4r85SY\n",
    "https://www.w3schools.com/python/numpy_random_poisson.asp\n",
    "\n",
    "What is Poisson distribution in statistics?\n",
    "In statistics, a Poisson distribution is a statistical distribution that shows how many times an event is likely to occur within a specified period of time. It is used for independent events which occur at a constant rate within a given interval of time.\n",
    "https://www.investopedia.com/terms/p/poisson-distribution.asp"
   ]
  },
  {
   "cell_type": "markdown",
   "metadata": {},
   "source": [
    "## calculate the likelihood of a coin landing on tails six times in a row in 20,000 coin flips\n",
    "\n",
    "\n",
    "**https://towardsdatascience.com/10-numpy-functions-you-should-know-1dc4863764c5\n",
    "\n",
    "If I was to try and calculate the likelihood of a coin landing on tails six times in a row in 20,000 coin flips, I would use the binom function\n",
    "\n",
    "binom(*args, **kwds) - A binomial discrete random variable.\n",
    "\n",
    "https://youtu.be/h8T2dwZJMUw\n",
    "https://www.w3schools.com/python/numpy_random_binomial.asp\n",
    "https://www.statisticshowto.com/probability-and-statistics/binomial-theorem/binomial-distribution-formula/\n",
    "\n",
    "What is a Binomial Distribution?\n",
    "A binomial distribution can be thought of as simply the probability of a SUCCESS or FAILURE outcome in an experiment or survey that is repeated multiple times. The binomial is a type of distribution that has two possible outcomes (the prefix “bi” means two, or twice). For example, a coin toss has only two possible outcomes: heads or tails and taking a test could have two possible outcomes: pass or fail.\n",
    "\n",
    "The first variable in the binomial formula, n, stands for the number of times the experiment runs.\n",
    "The second variable, p, represents the probability of one specific outcome.\n",
    "For example, let’s suppose you wanted to know the probability of getting a 1 on a die roll. if you were to roll a die 20 times, the probability of rolling a one on any throw is 1/6. Roll twenty times and you have a binomial distribution of (n=20, p=1/6). SUCCESS would be “roll a one” and FAILURE would be “roll anything else.” If the outcome in question was the probability of the die landing on an even number, the binomial distribution would then become (n=20, p=1/2). That’s because your probability of throwing an even number is one half.\n",
    "\n",
    "Criteria\n",
    "Binomial distributions must also meet the following three criteria:\n",
    "\n",
    "The number of observations or trials is fixed. In other words, you can only figure out the probability of something happening if you do it a certain number of times. This is common sense—if you toss a coin once, your probability of getting a tails is 50%. If you toss a coin a 20 times, your probability of getting a tails is very, very close to 100%.\n",
    "Each observation or trial is independent. In other words, none of your trials have an effect on the probability of the next trial.\n",
    "The probability of success (tails, heads, fail or pass) is exactly the same from one trial to another.\n",
    " \n",
    "Once you know that your distribution is binomial, you can apply the binomial distribution formula to calculate the probability."
   ]
  },
  {
   "cell_type": "code",
   "execution_count": 21,
   "metadata": {},
   "outputs": [
    {
     "name": "stdout",
     "output_type": "stream",
     "text": [
      "0.01625\n"
     ]
    }
   ],
   "source": [
    "import numpy as np\n",
    "\n",
    "estimate = sum(np.random.binomial(6, 0.5,20000)==6)/20000\n",
    "\n",
    "print(estimate)"
   ]
  },
  {
   "cell_type": "code",
   "execution_count": 20,
   "metadata": {},
   "outputs": [
    {
     "data": {
      "image/png": "[encoded data removed]",
      "text/plain": [
       "<Figure size 432x288 with 1 Axes>"
      ]
     },
     "metadata": {
      "needs_background": "light"
     },
     "output_type": "display_data"
    }
   ],
   "source": [
    "from numpy import random\n",
    "import matplotlib.pyplot as plt\n",
    "import seaborn as sns\n",
    "\n",
    "sns.distplot(random.binomial(n=6, p=0.5, size=20000), hist=True, kde=False)\n",
    "\n",
    "plt.show()"
   ]
  },
  {
   "cell_type": "markdown",
   "metadata": {},
   "source": [
    "## \n",
    "gamma(*args, **kwds) A gamma continuous random variable.\n",
    "\n",
    "The Gamma distribution is widely used in engineering, science, and business, to model continuous variables that are always positive and have skewed distributions. In SWedge, the Gamma distribution can be useful for any variable which is always positive, such as cohesion or shear strength for example.\n",
    "\n",
    "The Gamma distribution is often used to model the times to failure of electronic components, and arises naturally in processes for which the waiting times between Poisson distributed events are relevant.\n",
    "https://youtu.be/0WyQKQZtahk\n",
    "https://numpy.org/doc/stable/reference/random/generated/numpy.random.gamma.html\n",
    "https://www.rocscience.com/help/swedge/swedge/Gamma_Distribution.htm"
   ]
  },
  {
   "cell_type": "code",
   "execution_count": 5,
   "metadata": {},
   "outputs": [
    {
     "name": "stdout",
     "output_type": "stream",
     "text": [
      "[4 2 5 6 3 2 4 7 4 2]\n"
     ]
    }
   ],
   "source": [
    "from numpy import random\n",
    "\n",
    "x = random.binomial(n=10, p=0.5, size=10)\n",
    "\n",
    "print(x)"
   ]
  },
  {
   "cell_type": "code",
   "execution_count": 6,
   "metadata": {},
   "outputs": [
    {
     "data": {
      "image/png": "[encoded data removed]",
      "text/plain": [
       "<Figure size 432x288 with 1 Axes>"
      ]
     },
     "metadata": {
      "needs_background": "light"
     },
     "output_type": "display_data"
    }
   ],
   "source": [
    "from numpy import random\n",
    "import matplotlib.pyplot as plt\n",
    "import seaborn as sns\n",
    "\n",
    "\n",
    "%matplotlib inline\n",
    "sns.distplot(random.binomial(n=10, p=0.5, size=1000), hist=True, kde=False)\n",
    "\n",
    "\n",
    "plt.show()"
   ]
  },
  {
   "cell_type": "markdown",
   "metadata": {},
   "source": [
    "## norm(*args, **kwds) - A normal continuous random variable.\n",
    "\n",
    "The normal distribution is a continuous probability distribution that is symmetrical on both sides of the mean, so the right side of the center is a mirror image of the left side. The area under the normal distribution curve represents probability and the total area under the curve sums to one.\n",
    "https://docs.scipy.org/doc/scipy/reference/generated/scipy.stats.norm.html#scipy.stats.norm\n",
    "https://www.simplypsychology.org/normal-distribution.html\n",
    "https://youtu.be/Nb3a7FMUQyo"
   ]
  },
  {
   "cell_type": "markdown",
   "metadata": {},
   "source": [
    "## kstwo(*args, **kwds) Kolmogorov-Smirnov two-sided test statistic distribution.\n",
    "\n",
    "\n",
    "kstwo(*args, **kwds) Kolmogorov-Smirnov two-sided test statistic distribution.<br>\n",
    "Returns the Kolmogorov-Smirnov statistic and associated probability that two arrays of data values are drawn from the same distribution\n",
    "\n"
   ]
  },
  {
   "cell_type": "markdown",
   "metadata": {},
   "source": [
    "4. Explain the use of seeds in generating pseudorandom numbers.\n",
    "\n",
    "Sources:\n",
    "// https://github.com/wblakecannon/DataCamp/blob/master/02-intermediate-python-for-data-science/5-case-study-hacker-statistics/random-float.py\n",
    "https://www.casino.co.uk/guides/random-number-generators/\n",
    "https://en.wikipedia.org/wiki/Online_gambling\n",
    "https://www.statista.com/statistics/270728/market-volume-of-online-gaming-worldwide/\n",
    "\n",
    "The first thing to understand about Random Number Generators which using mathematical procedures to create a single or sequence of seemingly random numbers (pseudorandom numbers), is that a random number generation process in computing **ALWAYS** begins with a seed number or vector from which programmed mathematical procedures generates all other numbers. In NumPy the programmed mathematical procedures used for Random Number Generation (RNG) are called functions, we have examined some of the different types of RNG functions installed in the NumPy package above.\n",
    "\n",
    "To understand the use of seeds in generating pseudorandom numbers, the clearest illustration I can think of is making the comparison between live Casinos and online Casinos. When a card game is played at a live casino, every hand is random. The dealer physically shuffles the deck to mix up the cards. However online casino games use Random Number Generators (RNGs) to create pseudorandom numbers for statistical approximations of what might take place in reality.\n",
    "The online gambling industy is an industry values at over 40 billion dollars a year, and since the introduction of online sports gambling the industry is predicted to become worth over 92.9 billion dollars a year by 2023, however Randon Number Generators for online virtual card and virtual roulette games contribute to a significant profit in the sector. Every Gambler and Computer Hacker would love to know how to predict what the next result will be at the virtual poker or virtual roulette table.\n",
    "\n",
    "A pseudorandom number or pseudorandom numbers are not really random at all, they are a number or a sequence of numbers that satisfying statistical tests for randomness but produced by a definite mathematical procedure. Because pseudorandom number results or sequences are generated by a mathematical procedure, it is possible to get exactly the same results or sequence of numbers if the mathematical procedure is initiated in exactly the same way. This potential predictability of pseudorandom numbers makes online Casinos go to great lengths to conceal the mathematical procedures of their Random Number Generators. \n",
    "\n",
    "When I write, that a random number generation process in computing **ALWAYS** begins with a seed number, either the computer user or programmer sets what the seed is going to be, if the computer user or programmer doesn't set the seed number to begin the mathematical operation then often the software will have an inbuilt method or randomly generating a seed, this would for example be a mathematical procedure that uses the computer system time and date to generate what a seed number would be.\n",
    "\n",
    "When you use NumPY function seed(): you can change the integer that sets RNG, so that your results are the reproducible between simulations. As an argument, it takes an integer of your choosing, e.g. seed(8)\n",
    "\n",
    "**Below I have programmed a game of 'Chase The Ace' where you the user can change the integer value between the brackets in random.seed() to generate a predictable result. Click run on the cell below to play**"
   ]
  },
  {
   "cell_type": "markdown",
   "metadata": {},
   "source": [
    "## CHASE THE ACE VERSION 1 - SET THE SEED VALUE YOURSELF"
   ]
  },
  {
   "cell_type": "code",
   "execution_count": 7,
   "metadata": {},
   "outputs": [
    {
     "name": "stdout",
     "output_type": "stream",
     "text": [
      "King\n"
     ]
    }
   ],
   "source": [
    "#Chase the ace using a seed defined by the user\n",
    "\n",
    "\n",
    "from numpy import random\n",
    "\n",
    "random.seed(3) #try a seed number from below to have a predictable result \n",
    "\n",
    "\"\"\"Seeds 1,78,99 = Jack\n",
    "             2 = Ace\n",
    "           3,4 = King\n",
    "             8 = Queen\n",
    "\"\"\"\n",
    "\n",
    "x = random.choice([3, 5, 7, 9])\n",
    "\n",
    "if x == 3: print(\"Ace\")\n",
    "elif x == 5: print(\"Jack\")\n",
    "elif x == 7: print(\"King\")\n",
    "elif x == 9: print(\"Queen\")"
   ]
  },
  {
   "cell_type": "markdown",
   "metadata": {},
   "source": [
    "If you generate a random NumPy array without using the seed function then the Numpy package will generate and use its own seed, you will get entirely different and seemingly random results, chances are you won't be able to replicate, simulate or repeat the pattern. \n",
    "\n",
    "**Below I have changed the 'Chase The Ace' to remove the user choice of setting what the seed will be. Click run on the cell below to play **"
   ]
  },
  {
   "cell_type": "markdown",
   "metadata": {},
   "source": [
    "## CHASE THE ACE VERSION 2 - LET NUMPY SET THE SEED"
   ]
  },
  {
   "cell_type": "code",
   "execution_count": 8,
   "metadata": {},
   "outputs": [
    {
     "name": "stdout",
     "output_type": "stream",
     "text": [
      "Ace\n"
     ]
    }
   ],
   "source": [
    "#Chase the ace game WITHOUT a seed defined by the user\n",
    "\n",
    "from numpy import random\n",
    "\n",
    "x = random.choice([3, 5, 7, 9])\n",
    "\n",
    "if x == 3: print(\"Ace\")\n",
    "elif x == 5: print(\"Jack\")\n",
    "elif x == 7: print(\"King\")\n",
    "elif x == 9: print(\"Queen\")\n",
    "\n",
    "#Click Run on this cell to play again"
   ]
  },
  {
   "cell_type": "markdown",
   "metadata": {},
   "source": [
    "The seed that NumPy chooses for you if you don't set one uses a system called PGC 64.\n",
    "\n",
    "NumPy until recently used to use the Mersen Twister algorithm for setting seed value but recently changed it to PCG 64. If you Google search 'Mersen Twister algorithm gambling' You will find that there is much discussion about the Mersen Twister algorithm in professional gambling blogs. Ironically the foundation work for the maths that powers much of the security for 21st Century Online Casino games today was done by Marin Mersenne, a French Minim friar, who studied prime numbers in the early 17th century. *In mathematics, a Mersenne prime is a prime number that is one less than a power of two. That is, it is a prime number of the form Mn = 2n − 1 for some integer n. With this prime numbering system it is possible to attain numbers as high as 282,589,933 − 1* https://en.wikipedia.org/wiki/Mersenne_prime\n",
    "\n",
    "*While it has been considered in the past impossible to predict the result of a Mersen Twister Algorithm that uses a very large array of Mersen Prime numbers as seeds*, these days it is now claimed that is **EASY to predict the Mersenne Twister** https://www.pcg-random.org/index.html In laymans terms it is hard explain Mersenne Primes, some brilliant minds in Computer Science have dedicated themselves to the task, and with super computing over the years it has become more possible to identify new Mersenne Primes, *The search for Mersenne primes was revolutionized by the introduction of the electronic digital computer. Alan Turing searched for them on the Manchester Mark 1 in 1949, but the first successful identification of a Mersenne prime, M521, by this means was achieved at 10:00 pm on January 30, 1952 using the U.S. National Bureau of Standards Western Automatic Computer (SWAC) at the Institute for Numerical Analysis at the University of California, Los Angeles, under the direction of Lehmer, with a computer search program written and run by Prof. R. M. Robinson. It was the first Mersenne prime to be identified in thirty-eight years; the next one, M607, was found by the computer a little less than two hours later. Three more — M1279, M2203, and M2281 — were found by the same program in the next several months.https://en.wikipedia.org/wiki/Mersenne_prime\n",
    "\n",
    "*If you want your random number to produce random numbers that can't be easily predicted, you need to use an external source of randomness to kickstart the process. Many random number libraries utterly fail the programmer in this regard, leaving it up to them to figure out how to seed it using external randomness. This approach leaves programmers resorting to weak-but-easy methods. In contrast, the C++ PCG library provides some extras to make this task easy.* https://www.pcg-random.org/useful-features.html \n",
    "\n",
    "NumPy which is largely written in C is able to utilize the PGC cababilities in PGC 64, and now NumPy can provide a stronger basis from randomising seeds than the Mersenne Twister Algorithm.\n",
    "\n",
    "A random seed is a number used to initialize a pseudorandom number generator. For a seed to be used in a pseudorandom number generator, it does not need to be random. Because of the nature of number generating algorithms, so long as the original seed is ignored, the rest of the values that the algorithm generates will follow probability distribution in a pseudorandom manner.\n",
    "\n",
    "In order to protect online casinos programmers have come up with a fool proof solution, which involves using a seed number. This seed number is used by the computer algorithm to produce a random number that determines which card is drawn from a deck of cards. What happens next is even more interesting. That random number is also used as the seed to create the next random number and the process continues over and over."
   ]
  },
  {
   "cell_type": "markdown",
   "metadata": {},
   "source": [
    "## CHASE THE ACE VERSION 3 - HOW CASINOS USE PREVIOUS RESULT FOR NEW SEED"
   ]
  },
  {
   "cell_type": "code",
   "execution_count": 9,
   "metadata": {},
   "outputs": [
    {
     "name": "stdout",
     "output_type": "stream",
     "text": [
      "#GAME ONE#\n",
      "Jack: seed for next game will be 24 which is value of card 5 plus random number 19\n",
      "#Casino now uses result from Game 1, to help randomise the seed for Game 2#\n",
      "\n",
      "#GAME TWO#\n",
      "King: seed for next game will be 26 which is value of card 7 plus random number 19\n",
      "#Casino now uses result from Game 2, to help randomise the seed for Game 3#\n",
      "\n"
     ]
    }
   ],
   "source": [
    "#That random number is also used as the seed to create the next random number and the process continues over and over.\n",
    "\n",
    "from numpy import random\n",
    "\n",
    "x = random.choice([3, 5, 7, 9])\n",
    "y = random.choice([14, 15, 17, 19])\n",
    "\n",
    "print(\"#GAME ONE#\")\n",
    "if x == 3: print(\"Ace: seed for next game will be\", x + y,\"which is value of card 3 plus random number\", y)\n",
    "elif x == 5: print(\"Jack: seed for next game will be\", x + y,\"which is value of card 5 plus random number\", y)\n",
    "elif x == 7: print(\"King: seed for next game will be\", x + y,\"which is value of card 7 plus random number\", y)\n",
    "elif x == 9: print(\"Queen: seed for next game will be\", x + y,\"which is value of card 9 plus random number\", y)\n",
    "\n",
    "print(\"#Casino now uses result from Game 1, to help randomise the seed for Game 2#\\n\")\n",
    "    \n",
    "my_new_seed = x + y #a simplistic algorithm for the next seed\n",
    "\n",
    "random.seed(my_new_seed) #this time the computer uses random generation done on previous seed to create the seed \n",
    "                         #for the next game\n",
    "\n",
    "x = random.choice([3, 5, 7, 9])\n",
    "y = random.choice([14, 15, 17, 19])\n",
    "\n",
    "print(\"#GAME TWO#\")\n",
    "if x == 3: print(\"Ace: seed for next game will be\", x + y,\"which is value of card 3 plus random number\", y)\n",
    "elif x == 5: print(\"Jack: seed for next game will be\", x + y,\"which is value of card 5 plus random number\", y)\n",
    "elif x == 7: print(\"King: seed for next game will be\", x + y,\"which is value of card 7 plus random number\", y)\n",
    "elif x == 9: print(\"Queen: seed for next game will be\", x + y,\"which is value of card 9 plus random number\", y)\n",
    "print(\"#Casino now uses result from Game 2, to help randomise the seed for Game 3#\\n\")"
   ]
  },
  {
   "cell_type": "markdown",
   "metadata": {},
   "source": [
    "I have over simplified the code above to illustrate a point, but if you take the seed number for the next game generated in #GAME ONE# e.g. 'Queen: seed for next game will be 26' and try 26 in the original game CHASE THE ACE VERSION 1, you will get exactly the same card as #GAME TWO# e.g. Jack"
   ]
  },
  {
   "cell_type": "markdown",
   "metadata": {},
   "source": [
    "While I have focussed on gambling and casinos to illustrate use of seeds, below are some other references that I found for other sectors.\n",
    "\n",
    "##### Computer Security and Encryption\n",
    "A random seed (or seed state, or just seed) is a number (or vector) used to initialize a pseudorandom number generator. ... The choice of a good random seed is crucial in the field of computer security. When a secret encryption key is pseudorandomly generated, having the seed will allow one to obtain the key.\n",
    "\n",
    "If the same random seed is deliberately shared, it becomes a secret key, so two or more systems using matching pseudorandom number algorithms and matching seeds can generate matching sequences of non-repeating numbers which can be used to synchronize remote systems, such as GPS satellites and receivers.\n",
    "https://en.wikipedia.org/wiki/Random_seed\n",
    "\n",
    "##### Seeds Clinical Trials\n",
    "Knowing the seed is a good idea. It enables reproducing the analysis, the simulation or the randomization list. If you run a clinical trial, reproducibility is crucial. You must know at the end of the trial which patient was randomized to each treatment; otherwise you will throw all your data to the garbage. During the years I worked at Teva Pharmaceuticals, we took every possible safety measure: We burnt the randomization lists, the randomization SAS code and the randomization seed on a CD and kept it in a fire-proof safe. We also kept all this information in analog media. Yes, we printed the lists, the SAS code and the seed on paper, and these were also kept in the safe.\n",
    "\n",
    "Using the same seed every time is not a good idea. If you use the same seed every time, you get the same sequence of pseudo-random numbers every time, and therefore your numbers are not pseudo-random anymore. Selecting a different seed every time is good practice.\n",
    "\n",
    "How do you select the seed? Taking a number out of your head is still not a good idea. Our heads are biased. Like passwords, people tend to use some seeds more often than other possible seeds. Don’t be surprised if you see codes with seeds like 123, 999 or 31415.\n",
    "\n",
    "The best practice is to choose a random seed, but this creates a magic circle. You can still turn to your old hat and some pieces of paper, but there is a simple alternative: generate the seed from the computer clock.\n",
    "https://www.r-bloggers.com/2019/03/how-to-select-a-seed-for-simulation-or-randomization/\n"
   ]
  },
  {
   "cell_type": "code",
   "execution_count": null,
   "metadata": {},
   "outputs": [],
   "source": []
  }
 ],
 "metadata": {
  "kernelspec": {
   "display_name": "Python 3",
   "language": "python",
   "name": "python3"
  },
  "language_info": {
   "codemirror_mode": {
    "name": "ipython",
    "version": 3
   },
   "file_extension": ".py",
   "mimetype": "text/x-python",
   "name": "python",
   "nbconvert_exporter": "python",
   "pygments_lexer": "ipython3",
   "version": "3.8.3"
  }
 },
 "nbformat": 4,
 "nbformat_minor": 2
}
