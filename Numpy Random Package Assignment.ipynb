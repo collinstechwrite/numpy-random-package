{
 "cells": [
  {
   "cell_type": "markdown",
   "metadata": {},
   "source": [
    "## 2. Explain the use of the “Simple random data” and “Permutations” functions."
   ]
  },
  {
   "cell_type": "markdown",
   "metadata": {},
   "source": [
    "### Simple random data"
   ]
  },
  {
   "cell_type": "markdown",
   "metadata": {},
   "source": [
    "Simple random data¶\n",
    "\n",
    "#### intergers\n",
    "#### random\n",
    "#### choice\n",
    "#### bytes\n",
    "\n",
    "rand(d0, d1, …, dn)\tRandom values in a given shape.\n",
    "randn(d0, d1, …, dn)\tReturn a sample (or samples) from the “standard normal” distribution.\n",
    "randint(low[, high, size, dtype])\tReturn random integers from low (inclusive) to high (exclusive).\n",
    "random_integers(low[, high, size])\tRandom integers of type np.int between low and high, inclusive.\n",
    "random_sample([size])\tReturn random floats in the half-open interval [0.0, 1.0).\n",
    "random([size])\tReturn random floats in the half-open interval [0.0, 1.0).\n",
    "ranf([size])\tReturn random floats in the half-open interval [0.0, 1.0).\n",
    "sample([size])\tReturn random floats in the half-open interval [0.0, 1.0).\n",
    "choice(a[, size, replace, p])\tGenerates a random sample from a given 1-D array\n",
    "bytes(length)\tReturn random bytes."
   ]
  },
  {
   "cell_type": "markdown",
   "metadata": {},
   "source": [
    "### Permutations"
   ]
  },
  {
   "cell_type": "markdown",
   "metadata": {},
   "source": [
    "Randomly permute a sequence, or return a permuted range.\n",
    "If x is a multi-dimensional array, it is only shuffled along its first index."
   ]
  },
  {
   "cell_type": "markdown",
   "metadata": {},
   "source": [
    "## 3. Explain the use and purpose of at least five “Distributions” functions."
   ]
  },
  {
   "cell_type": "markdown",
   "metadata": {},
   "source": [
    "## 4. Explain the use of seeds in generating pseudorandom numbers."
   ]
  },
  {
   "cell_type": "markdown",
   "metadata": {},
   "source": [
    "What is the advantage of seed in randomization?\n",
    "It increases the probability of a different result. It also changes the distribution of results when you ask for sequences of random results. \n",
    "\n",
    "\n",
    "If you need to generate a randomization list for a clinical trial, do some simulations or perhaps perform a huge bootstrap analysis, you need a way to draw random numbers. Putting many pieces of paper in a hat and drawing them is possible in theory, but you will probably be using a computer for doing this. The computer, however, does not generate random numbers. It generates pseudo random numbers. They look and feel almost like real random numbers, but they are not random. Each number in the sequence is calculated from its predecessor, so the sequence has to begin somewhere;  **it begins in the seed – the first number in the sequence.\n",
    "\n",
    "https://www.r-bloggers.com/2019/03/how-to-select-a-seed-for-simulation-or-randomization/\n"
   ]
  },
  {
   "cell_type": "markdown",
   "metadata": {},
   "source": [
    "#### Seeds and randomization\n",
    "\n",
    "##### Online Casinos\n",
    "'When you play a card game like blackjack at a live casino, every hand is random. That’s because the dealer physically shuffles the deck to mix up the cards. If you’re the shooter playing craps, where the dice ultimately land depends on the laws of motion. Yet what happens in most online casino games are statistical approximations of what might take place in reality, which is where random number generators come into play.'\n",
    "\n",
    "The whole idea of random number generation becomes complicated if you understand how computers operate. As most people know, computers are programmed by humans. In other words, they merely follow the instructions we give them. Even though that might not appear to be problematic, it does create a major technical dilemma. If computers rely on human for input, the output can’t really be random. Any mathematical formula you could possibly create would be predictable and could theoretically be decoded by hackers. Naturally, programmers have come up with a fool proof solution, which involves using a seed number. ....\n",
    "\n",
    "While there is a pattern, it’s impossible to decode if you don’t know the initial seed number, which is heavily guarded.\n",
    "https://www.casino.co.uk/guides/random-number-generators/\n",
    "\n"
   ]
  },
  {
   "cell_type": "code",
   "execution_count": null,
   "metadata": {},
   "outputs": [],
   "source": []
  }
 ],
 "metadata": {
  "kernelspec": {
   "display_name": "Python 3",
   "language": "python",
   "name": "python3"
  },
  "language_info": {
   "codemirror_mode": {
    "name": "ipython",
    "version": 3
   },
   "file_extension": ".py",
   "mimetype": "text/x-python",
   "name": "python",
   "nbconvert_exporter": "python",
   "pygments_lexer": "ipython3",
   "version": "3.8.3"
  }
 },
 "nbformat": 4,
 "nbformat_minor": 4
}
